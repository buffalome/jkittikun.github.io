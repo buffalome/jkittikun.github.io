{
  "cells": [
    {
      "cell_type": "markdown",
      "metadata": {},
      "source": [
        "# Dictionary\n",
        "\n",
        "Kittikun Jitpairod\n",
        "\n",
        "## Introduction to Dictionaries\n",
        "\n",
        "A dictionary in Python is an unordered collection of key-value pairs. It\n",
        "is also referred to as an associative array, hash table, or hash map in\n",
        "other programming languages. Dictionaries are defined by curly braces {\n",
        "} and contain key:value pairs.\n",
        "\n",
        "The key features of dictionaries are:\n",
        "\n",
        "-   They are mutable (can be modified after creation)\n",
        "-   Keys must be unique and immutable (strings, numbers, or tuples)\n",
        "-   Values can be of any type\n",
        "-   They are unordered (in Python versions \\< 3.7)\n",
        "\n",
        "## Creating Dictionaries\n",
        "\n",
        "There are multiple methods to create dictionaries in Python. Consider\n",
        "the following examples:\n",
        "\n",
        "-   Empty dictionary"
      ],
      "id": "d3bf22e1-7d3f-48bd-abb6-ca0d1948e819"
    },
    {
      "cell_type": "code",
      "execution_count": 1,
      "metadata": {},
      "outputs": [
        {
          "output_type": "stream",
          "name": "stdout",
          "text": [
            "Empty dictionary: {}"
          ]
        }
      ],
      "source": [
        "empty_dict = {}\n",
        "print(\"Empty dictionary:\", empty_dict)"
      ],
      "id": "29583458"
    },
    {
      "cell_type": "markdown",
      "metadata": {},
      "source": [
        "-   Dictionary with initial key-value pairs"
      ],
      "id": "5a483693-4ed6-4f15-8ac8-8b606668786b"
    },
    {
      "cell_type": "code",
      "execution_count": 2,
      "metadata": {},
      "outputs": [
        {
          "output_type": "stream",
          "name": "stdout",
          "text": [
            "Person dictionary: {'name': 'Alice', 'age': 30, 'city': 'New York'}"
          ]
        }
      ],
      "source": [
        "person = {\"name\": \"Alice\", \"age\": 30, \"city\": \"New York\"}\n",
        "print(\"Person dictionary:\", person)"
      ],
      "id": "13014ac2"
    },
    {
      "cell_type": "markdown",
      "metadata": {},
      "source": [
        "-   Using `dict()` constructor"
      ],
      "id": "82d627b2-2ec0-46f5-8b91-4b944ea256a6"
    },
    {
      "cell_type": "code",
      "execution_count": 3,
      "metadata": {},
      "outputs": [
        {
          "output_type": "stream",
          "name": "stdout",
          "text": [
            "Another person dictionary: {'name': 'Bob', 'age': 25, 'city': 'San Francisco'}"
          ]
        }
      ],
      "source": [
        "another_person = dict(name=\"Bob\", age=25, city=\"San Francisco\")\n",
        "print(\"Another person dictionary:\", another_person)"
      ],
      "id": "ac198c29"
    },
    {
      "cell_type": "markdown",
      "metadata": {},
      "source": [
        "-   Creating a dictionary from two lists using `zip()`"
      ],
      "id": "1f1e3c2a-d121-418a-845a-ca105f413725"
    },
    {
      "cell_type": "code",
      "execution_count": 4,
      "metadata": {},
      "outputs": [
        {
          "output_type": "stream",
          "name": "stdout",
          "text": [
            "Combined dictionary: {'a': 1, 'b': 2, 'c': 3}"
          ]
        }
      ],
      "source": [
        "keys = [\"a\", \"b\", \"c\"]\n",
        "values = [1, 2, 3]\n",
        "combined = dict(zip(keys, values))\n",
        "print(\"Combined dictionary:\", combined)"
      ],
      "id": "e217bfaf"
    },
    {
      "cell_type": "markdown",
      "metadata": {},
      "source": [
        "## Accessing Dictionary Elements\n",
        "\n",
        "The contents of dictionaries can be access using `[key]` or `get()`\n",
        "method."
      ],
      "id": "2829716f-38b0-4e41-901b-ed27907505bd"
    },
    {
      "cell_type": "code",
      "execution_count": 5,
      "metadata": {},
      "outputs": [
        {
          "output_type": "stream",
          "name": "stdout",
          "text": [
            "Name: Alice\n",
            "Age: 30\n",
            "Country: Unknown"
          ]
        }
      ],
      "source": [
        "person = {\"name\": \"Alice\", \"age\": 30, \"city\": \"New York\"}\n",
        "\n",
        "# Using square bracket notation\n",
        "print(\"Name:\", person[\"name\"])\n",
        "\n",
        "# Using get() method\n",
        "print(\"Age:\", person.get(\"age\"))\n",
        "\n",
        "# Using get() with a default value\n",
        "print(\"Country:\", person.get(\"country\", \"Unknown\"))"
      ],
      "id": "75d4df27"
    },
    {
      "cell_type": "markdown",
      "metadata": {},
      "source": [
        "The get() method is particularly useful as it allows for the\n",
        "specification of a default value if the key does not exist.\n",
        "\n",
        "## Modifying Dictionary Elements\n",
        "\n",
        "These operations illustrate the dynamic nature of dictionaries."
      ],
      "id": "438531c9-1bee-478e-b2a5-6a070a2697d4"
    },
    {
      "cell_type": "code",
      "execution_count": 6,
      "metadata": {},
      "outputs": [
        {
          "output_type": "stream",
          "name": "stdout",
          "text": [
            "Updated age: 31\n",
            "Updated dictionary: {'name': 'Alice', 'age': 31, 'city': 'New York', 'job': 'Engineer'}\n",
            "Dictionary after update: {'name': 'Alice', 'age': 32, 'city': 'New York', 'job': 'Engineer', 'country': 'USA'}"
          ]
        }
      ],
      "source": [
        "person = {\"name\": \"Alice\", \"age\": 30, \"city\": \"New York\"}\n",
        "\n",
        "# Changing a value\n",
        "person[\"age\"] = 31\n",
        "print(\"Updated age:\", person[\"age\"])\n",
        "\n",
        "# Adding a new key-value pair\n",
        "person[\"job\"] = \"Engineer\"\n",
        "print(\"Updated dictionary:\", person)\n",
        "\n",
        "# Updating multiple key-value pairs\n",
        "person.update({\"age\": 32, \"country\": \"USA\"})\n",
        "print(\"Dictionary after update:\", person)"
      ],
      "id": "03b9220f"
    },
    {
      "cell_type": "markdown",
      "metadata": {},
      "source": [
        "These operations illustrate the dynamic nature of dictionaries."
      ],
      "id": "adc1bad3-b127-4ecd-8fe1-3e2bad45fddc"
    },
    {
      "cell_type": "code",
      "execution_count": 7,
      "metadata": {},
      "outputs": [
        {
          "output_type": "stream",
          "name": "stdout",
          "text": [
            "Dictionary after deletion: {'name': 'Alice', 'age': 32, 'job': 'Engineer', 'country': 'USA'}\n",
            "Removed job: Engineer\n",
            "Dictionary after pop: {'name': 'Alice', 'age': 32, 'country': 'USA'}"
          ]
        }
      ],
      "source": [
        "# Removing a key-value pair\n",
        "del person[\"city\"]\n",
        "print(\"Dictionary after deletion:\", person)\n",
        "\n",
        "# Removing and returning a value\n",
        "job = person.pop(\"job\")\n",
        "print(\"Removed job:\", job)\n",
        "print(\"Dictionary after pop:\", person)"
      ],
      "id": "aa9f494a"
    },
    {
      "cell_type": "markdown",
      "metadata": {},
      "source": [
        "## Dictionary Methods\n",
        "\n",
        "Python provides several useful methods for working with dictionaries:"
      ],
      "id": "890c1214-872e-4e2c-975f-768928af5b48"
    },
    {
      "cell_type": "code",
      "execution_count": 8,
      "metadata": {},
      "outputs": [
        {
          "output_type": "stream",
          "name": "stdout",
          "text": [
            "Keys: dict_keys(['name', 'age', 'city'])\n",
            "Values: dict_values(['Alice', 30, 'New York'])\n",
            "Items: dict_items([('name', 'Alice'), ('age', 30), ('city', 'New York')])\n",
            "After clear: None"
          ]
        }
      ],
      "source": [
        "person = {\"name\": \"Alice\", \"age\": 30, \"city\": \"New York\"}\n",
        "\n",
        "# Get all keys\n",
        "print(\"Keys:\", person.keys())\n",
        "\n",
        "# Get all values\n",
        "print(\"Values:\", person.values())\n",
        "\n",
        "# Get all key-value pairs\n",
        "print(\"Items:\", person.items())\n",
        "\n",
        "# Clear the dictionary\n",
        "print(\"After clear:\", person.clear())"
      ],
      "id": "ece8f9f6"
    },
    {
      "cell_type": "markdown",
      "metadata": {},
      "source": [
        "To copy a dictionary:"
      ],
      "id": "928600a6-cdb7-4a40-92b4-86b017f28880"
    },
    {
      "cell_type": "code",
      "execution_count": 9,
      "metadata": {},
      "outputs": [
        {
          "output_type": "stream",
          "name": "stdout",
          "text": [
            "Original: {'x': 1, 'y': 2, 'z': 3}\n",
            "Reference: {'x': 1, 'y': 2, 'z': 3}"
          ]
        }
      ],
      "source": [
        "# Create a new reference\n",
        "original = {\"x\": 1, \"y\": 2}\n",
        "reference = original\n",
        "reference[\"z\"] = 3\n",
        "print(\"Original:\", original)\n",
        "print(\"Reference:\", reference)"
      ],
      "id": "b289faf3"
    },
    {
      "cell_type": "code",
      "execution_count": 10,
      "metadata": {},
      "outputs": [
        {
          "output_type": "stream",
          "name": "stdout",
          "text": [
            "Original: {'x': 1, 'y': 2}\n",
            "Copy: {'x': 1, 'y': 2, 'z': 3}"
          ]
        }
      ],
      "source": [
        "# Create a copy\n",
        "original = {\"x\": 1, \"y\": 2}\n",
        "copy = original.copy()\n",
        "copy[\"z\"] = 3\n",
        "print(\"Original:\", original)\n",
        "print(\"Copy:\", copy)"
      ],
      "id": "b8d764e8"
    }
  ],
  "nbformat": 4,
  "nbformat_minor": 5,
  "metadata": {
    "kernelspec": {
      "name": "python3",
      "display_name": "Python 3 (ipykernel)",
      "language": "python",
      "path": "/Users/kittikun/Personal/python/econ/.venv/share/jupyter/kernels/python3"
    },
    "language_info": {
      "name": "python",
      "codemirror_mode": {
        "name": "ipython",
        "version": "3"
      },
      "file_extension": ".py",
      "mimetype": "text/x-python",
      "nbconvert_exporter": "python",
      "pygments_lexer": "ipython3",
      "version": "3.12.4"
    }
  }
}