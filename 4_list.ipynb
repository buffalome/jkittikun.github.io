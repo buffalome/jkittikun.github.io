{
  "cells": [
    {
      "cell_type": "markdown",
      "metadata": {},
      "source": [
        "# List\n",
        "\n",
        "Kittikun Jitpairod\n",
        "\n",
        "## Introduction\n",
        "\n",
        "In Python, a list is an ordered, mutable collection of items. Lists can\n",
        "contain elements of different types, including other lists. They are\n",
        "defined by enclosing comma-separated values in square brackets \\[ \\].\n",
        "\n",
        "Key characteristics of lists:\n",
        "\n",
        "-   Ordered: Elements maintain their order.\n",
        "-   Mutable: Can be modified after creation.\n",
        "-   Dynamic: Can grow or shrink in size.\n",
        "-   Heterogeneous: Can contain items of different types.\n",
        "\n",
        "## Creating Lists\n",
        "\n",
        "Lists can be created in several ways:"
      ],
      "id": "be75e72f-814b-47b0-aa39-465e614df3ba"
    },
    {
      "cell_type": "code",
      "execution_count": 1,
      "metadata": {},
      "outputs": [
        {
          "output_type": "stream",
          "name": "stdout",
          "text": [
            "[]\n",
            "[1, 2, 3, 4, 5]\n",
            "['apple', 'banana', 'cherry']\n",
            "[1, 'hello', 3.14, True]\n",
            "[1, [2, 3], [4, 5, 6]]"
          ]
        }
      ],
      "source": [
        "empty_list = []\n",
        "numbers = [1, 2, 3, 4, 5]\n",
        "fruits = [\"apple\", \"banana\", \"cherry\"]\n",
        "mixed = [1, \"hello\", 3.14, True]\n",
        "nested = [1, [2, 3], [4, 5, 6]]\n",
        "\n",
        "print(empty_list)\n",
        "print(numbers)\n",
        "print(fruits)\n",
        "print(mixed)\n",
        "print(nested)"
      ],
      "id": "74f9ed64"
    },
    {
      "cell_type": "markdown",
      "metadata": {},
      "source": [
        "## Accessing List Elements\n",
        "\n",
        "### Indexing\n",
        "\n",
        "Python uses zero-based indexing. Negative indices count from the end of\n",
        "the list."
      ],
      "id": "c85121ea-4ec5-4ad6-879a-e617ea27f270"
    },
    {
      "cell_type": "code",
      "execution_count": 2,
      "metadata": {},
      "outputs": [
        {
          "output_type": "stream",
          "name": "stdout",
          "text": [
            "apple\n",
            "cherry"
          ]
        }
      ],
      "source": [
        "fruits = [\"apple\", \"banana\", \"cherry\"]\n",
        "print(fruits[0])\n",
        "print(fruits[-1])"
      ],
      "id": "e31924cd"
    },
    {
      "cell_type": "markdown",
      "metadata": {},
      "source": [
        "### Slicing\n",
        "\n",
        "Slicing allows access to a range of elements. The syntax is\n",
        "\\[start:end:step\\], where start is inclusive and end is exclusive."
      ],
      "id": "93a882b7-f9b4-47cf-9505-8dfa44cc83a2"
    },
    {
      "cell_type": "code",
      "execution_count": 3,
      "metadata": {
        "output-location": "column"
      },
      "outputs": [
        {
          "output_type": "stream",
          "name": "stdout",
          "text": [
            "[1, 2, 3]\n",
            "[0, 1, 2]\n",
            "[2, 3, 4, 5]\n",
            "[0, 2, 4]"
          ]
        }
      ],
      "source": [
        "numbers = [0, 1, 2, 3, 4, 5]\n",
        "print(numbers[1:4])\n",
        "print(numbers[:3])\n",
        "print(numbers[2:])\n",
        "print(numbers[::2])"
      ],
      "id": "d067752c"
    },
    {
      "cell_type": "markdown",
      "metadata": {},
      "source": [
        "## Modifying Lists\n",
        "\n",
        "### Changing Elements\n",
        "\n",
        "Individual elements can be modified by assigning new values to specific\n",
        "indices."
      ],
      "id": "73c15ce5-8276-4734-9f25-b85588027f65"
    },
    {
      "cell_type": "code",
      "execution_count": 4,
      "metadata": {},
      "outputs": [
        {
          "output_type": "stream",
          "name": "stdout",
          "text": [
            "['apple', 'blueberry', 'cherry']"
          ]
        }
      ],
      "source": [
        "fruits = [\"apple\", \"banana\", \"cherry\"]\n",
        "fruits[1] = \"blueberry\"\n",
        "print(fruits)"
      ],
      "id": "2aa7d836"
    },
    {
      "cell_type": "markdown",
      "metadata": {},
      "source": [
        "### Adding Elements\n",
        "\n",
        "Elements can be added to lists using various methods:"
      ],
      "id": "599d532f-ac16-4da7-8d67-1df28ab26f3b"
    },
    {
      "cell_type": "code",
      "execution_count": 5,
      "metadata": {},
      "outputs": [
        {
          "output_type": "stream",
          "name": "stdout",
          "text": [
            "['apple', 'blueberry', 'banana', 'cherry', 'date', 'fig']"
          ]
        }
      ],
      "source": [
        "fruits = [\"apple\", \"banana\"]\n",
        "fruits.append(\"cherry\")        # Adds to the end\n",
        "fruits.insert(1, \"blueberry\")  # Inserts at specific index\n",
        "fruits.extend([\"date\", \"fig\"]) # Adds multiple elements\n",
        "print(fruits)"
      ],
      "id": "bc815dd3"
    },
    {
      "cell_type": "markdown",
      "metadata": {},
      "source": [
        "### Removing Elements\n",
        "\n",
        "Elements can be removed from lists in several ways:"
      ],
      "id": "d360a68c-c108-4bf1-aae9-22ab08d43fd4"
    },
    {
      "cell_type": "code",
      "execution_count": 6,
      "metadata": {},
      "outputs": [
        {
          "output_type": "stream",
          "name": "stdout",
          "text": [
            "['apple', 'cherry', 'date']"
          ]
        }
      ],
      "source": [
        "fruits = [\"apple\", \"banana\",\n",
        "          \"cherry\", \"date\"]\n",
        "\n",
        "# Remove by value\n",
        "fruits.remove(\"banana\")\n",
        "print(fruits)"
      ],
      "id": "40e82a36"
    },
    {
      "cell_type": "code",
      "execution_count": 7,
      "metadata": {},
      "outputs": [
        {
          "output_type": "stream",
          "name": "stdout",
          "text": [
            "Removed cherry\n",
            "['apple', 'date']"
          ]
        }
      ],
      "source": [
        "# Remove by index\n",
        "popped = fruits.pop(1)\n",
        "print(f\"Removed {popped}\")\n",
        "print(fruits)"
      ],
      "id": "ca52873e"
    },
    {
      "cell_type": "code",
      "execution_count": 8,
      "metadata": {},
      "outputs": [
        {
          "output_type": "stream",
          "name": "stdout",
          "text": [
            "Removed date\n",
            "['apple']"
          ]
        }
      ],
      "source": [
        "# Remove last item\n",
        "last = fruits.pop()\n",
        "print(f\"Removed {last}\")\n",
        "print(fruits)"
      ],
      "id": "13fa6018"
    },
    {
      "cell_type": "code",
      "execution_count": 9,
      "metadata": {},
      "outputs": [
        {
          "output_type": "stream",
          "name": "stdout",
          "text": [
            "[]"
          ]
        }
      ],
      "source": [
        "# Clear all items\n",
        "fruits.clear()\n",
        "print(fruits)"
      ],
      "id": "9d8406ae"
    },
    {
      "cell_type": "markdown",
      "metadata": {},
      "source": [
        "## List Operations\n",
        "\n",
        "### Concatenation\n",
        "\n",
        "Lists can be combined using the + operator:"
      ],
      "id": "4fc49655-601c-4dc4-ad6b-d947d638454a"
    },
    {
      "cell_type": "code",
      "execution_count": 10,
      "metadata": {
        "output-location": "column"
      },
      "outputs": [
        {
          "output_type": "stream",
          "name": "stdout",
          "text": [
            "[1, 2, 3, 4, 5, 6]"
          ]
        }
      ],
      "source": [
        "combined = [1, 2, 3] + [4, 5, 6]\n",
        "print(combined)"
      ],
      "id": "b3df2906"
    },
    {
      "cell_type": "markdown",
      "metadata": {},
      "source": [
        "### Repetition\n",
        "\n",
        "Lists can be repeated using the `*` operator:"
      ],
      "id": "696f33e7-eb07-4f69-a8bd-f93f0e1c0c6f"
    },
    {
      "cell_type": "code",
      "execution_count": 11,
      "metadata": {
        "output-location": "column"
      },
      "outputs": [
        {
          "output_type": "stream",
          "name": "stdout",
          "text": [
            "[1, 2, 3, 1, 2, 3, 1, 2, 3]"
          ]
        }
      ],
      "source": [
        "repeated = [1, 2, 3] * 3\n",
        "print(repeated)"
      ],
      "id": "0b883cd3"
    },
    {
      "cell_type": "markdown",
      "metadata": {},
      "source": [
        "### Membership Test\n",
        "\n",
        "The `in` keyword checks if an item exists in a list:"
      ],
      "id": "344c8b6f-6609-4eef-b602-430565b5a8be"
    },
    {
      "cell_type": "code",
      "execution_count": 12,
      "metadata": {
        "output-location": "column"
      },
      "outputs": [
        {
          "output_type": "stream",
          "name": "stdout",
          "text": [
            "True\n",
            "False"
          ]
        }
      ],
      "source": [
        "fruits = [\"apple\", \"banana\", \"cherry\"]\n",
        "print(\"banana\" in fruits)\n",
        "print(\"mango\" in fruits)"
      ],
      "id": "01d28d7b"
    }
  ],
  "nbformat": 4,
  "nbformat_minor": 5,
  "metadata": {
    "kernelspec": {
      "name": "python3",
      "display_name": "Python 3 (ipykernel)",
      "language": "python",
      "path": "/Users/kittikun/Personal/python/econ/.venv/share/jupyter/kernels/python3"
    },
    "language_info": {
      "name": "python",
      "codemirror_mode": {
        "name": "ipython",
        "version": "3"
      },
      "file_extension": ".py",
      "mimetype": "text/x-python",
      "nbconvert_exporter": "python",
      "pygments_lexer": "ipython3",
      "version": "3.12.4"
    }
  }
}