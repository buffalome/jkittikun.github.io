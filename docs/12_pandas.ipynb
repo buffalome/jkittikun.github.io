{
  "cells": [
    {
      "cell_type": "markdown",
      "metadata": {},
      "source": [
        "# Pandas\n",
        "\n",
        "Kittikun Jitpairod\n",
        "\n",
        "## Introduction to Pandas\n",
        "\n",
        "PPandas is a powerful Python library used for data manipulation and\n",
        "analysis. It provides data structures for efficiently storing large\n",
        "datasets and tools for working with them. The two primary data\n",
        "structures in pandas are:\n",
        "\n",
        "**Series:** A one-dimensional labeled array\n",
        "\n",
        "**DataFrame:** A two-dimensional labeled data structure with columns of\n",
        "potentially different types\n",
        "\n",
        "Before we begin, make sure Pandas is installed:\n",
        "\n",
        "``` python\n",
        "pip install pandas\n",
        "```\n",
        "\n",
        "For Excel support, we also need:\n",
        "\n",
        "``` python\n",
        "pip install openpyxl\n",
        "```\n",
        "\n",
        "Let’s start by importing Pandas:"
      ],
      "id": "1972586a-8dcc-4d88-8836-b2033d243652"
    },
    {
      "cell_type": "code",
      "execution_count": 1,
      "metadata": {},
      "outputs": [],
      "source": [
        "import pandas as pd"
      ],
      "id": "415cbb97"
    },
    {
      "cell_type": "markdown",
      "metadata": {},
      "source": [
        "## Creating DataFrames\n",
        "\n",
        "### From a dictionary\n",
        "\n",
        "When creating a DataFrame from a dictionary, the keys become column\n",
        "names, and the values become the data in those columns."
      ],
      "id": "2baf2da1-6803-4fbe-9e4d-db0aa2fc44e5"
    },
    {
      "cell_type": "code",
      "execution_count": 2,
      "metadata": {},
      "outputs": [
        {
          "output_type": "stream",
          "name": "stdout",
          "text": [
            "    Name  Age      City\n",
            "0   John   28  New York\n",
            "1   Anna   34     Paris\n",
            "2  Peter   29    Berlin\n",
            "3  Linda   32    London"
          ]
        },
        {
          "output_type": "display_data",
          "metadata": {},
          "data": {
            "text/html": [
              "\n",
              "</div>"
            ]
          }
        }
      ],
      "source": [
        "data = {\n",
        "    'Name': ['John', 'Anna', 'Peter', 'Linda'],\n",
        "    'Age': [28, 34, 29, 32],\n",
        "    'City': ['New York', 'Paris', 'Berlin', 'London']\n",
        "}\n",
        "\n",
        "df = pd.DataFrame(data)\n",
        "\n",
        "print(df)\n",
        "display(df)"
      ],
      "id": "11673a58"
    },
    {
      "cell_type": "markdown",
      "metadata": {},
      "source": [
        "### From a list of dictionaries\n",
        "\n",
        "Sometimes, your data might be in the form of a list of dictionaries,\n",
        "where each dictionary represents a row of data. This method allows for\n",
        "more flexibility in the data structure, as each dictionary (row) doesn’t\n",
        "necessarily need to have the same keys (columns)."
      ],
      "id": "ef2d0536-7bd7-4191-a4ce-9206dc58f382"
    },
    {
      "cell_type": "code",
      "execution_count": 3,
      "metadata": {},
      "outputs": [
        {
          "output_type": "stream",
          "name": "stdout",
          "text": [
            "    Name  Age      City\n",
            "0   John   28  New York\n",
            "1   Anna   34     Paris\n",
            "2  Peter   29    Berlin\n",
            "3  Linda   32    London"
          ]
        }
      ],
      "source": [
        "data = [\n",
        "    {'Name': 'John', 'Age': 28, 'City': 'New York'},\n",
        "    {'Name': 'Anna', 'Age': 34, 'City': 'Paris'},\n",
        "    {'Name': 'Peter', 'Age': 29, 'City': 'Berlin'},\n",
        "    {'Name': 'Linda', 'Age': 32, 'City': 'London'}\n",
        "]\n",
        "\n",
        "df = pd.DataFrame(data)\n",
        "print(df)"
      ],
      "id": "21ab33db"
    },
    {
      "cell_type": "markdown",
      "metadata": {},
      "source": [
        "### From a NumPy array\n",
        "\n",
        "NumPy arrays are efficient for numerical computations. When you have\n",
        "data in a NumPy array, you can easily convert it to a DataFrame for\n",
        "further analysis."
      ],
      "id": "7d8f56d7-38f3-414f-8f5c-d53d03f65574"
    },
    {
      "cell_type": "code",
      "execution_count": 4,
      "metadata": {},
      "outputs": [
        {
          "output_type": "stream",
          "name": "stdout",
          "text": [
            "   A  B  C\n",
            "0  1  2  3\n",
            "1  4  5  6\n",
            "2  7  8  9"
          ]
        }
      ],
      "source": [
        "import numpy as np\n",
        "\n",
        "arr = np.array([[1, 2, 3], [4, 5, 6], [7, 8, 9]])\n",
        "\n",
        "df = pd.DataFrame(arr, columns=['A', 'B', 'C'])\n",
        "\n",
        "print(df)"
      ],
      "id": "20f07527"
    },
    {
      "cell_type": "markdown",
      "metadata": {},
      "source": [
        "Note that when creating a DataFrame from a NumPy array, **you need to\n",
        "specify column names separately**, as arrays don’t have built-in column\n",
        "labels.\n",
        "\n",
        "### From a CSV file\n",
        "\n",
        "CSV (Comma-Separated Values) files are one of the most common formats\n",
        "for storing tabular data. Pandas makes it easy to read these files into\n",
        "DataFrames."
      ],
      "id": "8130d133-f0b7-4514-b786-2ee95dd4d153"
    },
    {
      "cell_type": "code",
      "execution_count": 5,
      "metadata": {},
      "outputs": [
        {
          "output_type": "stream",
          "name": "stdout",
          "text": [
            "  Serie  Value 1  Value 2  Value 3\n",
            "0     A        9       96        2\n",
            "1     B       61       71       28\n",
            "2     C       36       87       38\n",
            "3     D       54       77       60\n",
            "4     E       18       32       99"
          ]
        }
      ],
      "source": [
        "df = pd.read_csv('ex_csv.csv')\n",
        "print(df.head())"
      ],
      "id": "3798ed4d"
    },
    {
      "cell_type": "markdown",
      "metadata": {},
      "source": [
        "### From an Excel Files\n",
        "\n",
        "Pandas uses the `read_excel()` function for reading Excel files.\n",
        "\n",
        "You may need to install additional library.\n",
        "\n",
        "``` python\n",
        "pip install openpyxl\n",
        "```"
      ],
      "id": "50f91304-e226-4ce6-ab9b-cb270020f508"
    },
    {
      "cell_type": "code",
      "execution_count": 6,
      "metadata": {},
      "outputs": [
        {
          "output_type": "stream",
          "name": "stdout",
          "text": [
            "Basic reading\n",
            "  Serie  Value 1  Value 2  Value 3\n",
            "0     A        9       96        2\n",
            "1     B       61       71       28\n",
            "2     C       36       87       38\n",
            "3     D       54       77       60\n",
            "4     E       18       32       99\n",
            "\n",
            "Sheet2\n",
            "  Serie  Value 4  Value 5  Value 6\n",
            "0     K       46       98       99\n",
            "1     L       71       68       13\n",
            "2     M       55       45       77\n",
            "3     N       59        0       15\n",
            "4     O        5       32       96"
          ]
        }
      ],
      "source": [
        "# Basic reading\n",
        "df = pd.read_excel('ex_excel.xlsx')\n",
        "print('Basic reading')\n",
        "print(df.head())\n",
        "\n",
        "# Reading a specific sheet\n",
        "df = pd.read_excel('ex_excel.xlsx', sheet_name='Sheet2')\n",
        "print('\\nSheet2')\n",
        "print(df.head())\n",
        "\n",
        "# Reading multiple sheets\n",
        "xlsx = pd.ExcelFile('ex_excel.xlsx')\n",
        "df1 = pd.read_excel(xlsx, 'Sheet1')\n",
        "df2 = pd.read_excel(xlsx, 'Sheet2')"
      ],
      "id": "a440edf6"
    },
    {
      "cell_type": "markdown",
      "metadata": {},
      "source": [
        "## Export DataFrame\n",
        "\n",
        "### Writing DataFrames to CSV files\n",
        "\n",
        "Writing DataFrames to CSV files is just as straightforward with the\n",
        "`to_csv()` method.\n",
        "\n",
        "``` python\n",
        "# Basic writing\n",
        "df.to_csv('output.csv')\n",
        "\n",
        "# Writing with specific options\n",
        "df.to_csv('output.csv',\n",
        "          index=False,  # Don't write index\n",
        "          columns=['Name', 'Age'],  # Only write specific columns\n",
        "          sep=';',  # Use semicolon as separator\n",
        "          encoding='utf-8')  # Specify encoding\n",
        "\n",
        "# Writing without header\n",
        "df.to_csv('output.csv', header=False)\n",
        "```\n",
        "\n",
        "### Writing Excel Files with Pandas\n",
        "\n",
        "Writing to Excel files is done using the `to_excel()` method.\n",
        "\n",
        "``` python\n",
        "# Basic writing\n",
        "df.to_excel('output.xlsx', sheet_name='Sheet1')\n",
        "\n",
        "# Writing multiple DataFrames to different sheets\n",
        "with pd.ExcelWriter('output.xlsx') as writer:\n",
        "    df1.to_excel(writer, sheet_name='Sheet1')\n",
        "    df2.to_excel(writer, sheet_name='Sheet2')\n",
        "```\n",
        "\n",
        "## Basic DataFrame Operations\n",
        "\n",
        "Once you have a DataFrame, there are numerous operations you can perform\n",
        "to explore and manipulate your data:\n",
        "\n",
        "### Viewing Data\n",
        "\n",
        "These methods allow you to quickly inspect your DataFrame:"
      ],
      "id": "d9947fca-cef2-4d47-9b1d-c82280904e54"
    },
    {
      "cell_type": "code",
      "execution_count": 7,
      "metadata": {},
      "outputs": [],
      "source": [
        "data = {\n",
        "    'Name': ['John', 'Anna', 'Peter', 'Linda'],\n",
        "    'Age': [28, 34, 29, 32],\n",
        "    'City': ['New York', 'Paris', 'Berlin', 'London']\n",
        "}\n",
        "df = pd.DataFrame(data)"
      ],
      "id": "4b84a4f0"
    },
    {
      "cell_type": "markdown",
      "metadata": {},
      "source": [
        "``` python\n",
        "print(df.head(3))  # First 3 rows\n",
        "```\n",
        "\n",
        "        Name  Age      City\n",
        "    0   John   28  New York\n",
        "    1   Anna   34     Paris\n",
        "    2  Peter   29    Berlin\n",
        "\n",
        "``` python\n",
        "print(df.tail(3))  # Last 3 rows\n",
        "```\n",
        "\n",
        "        Name  Age    City\n",
        "    1   Anna   34   Paris\n",
        "    2  Peter   29  Berlin\n",
        "    3  Linda   32  London\n",
        "\n",
        "DataFrame info, including column types and non-null counts\n",
        "\n",
        "``` python\n",
        "print(df.info())\n",
        "```\n",
        "\n",
        "    <class 'pandas.core.frame.DataFrame'>\n",
        "    RangeIndex: 4 entries, 0 to 3\n",
        "    Data columns (total 3 columns):\n",
        "     #   Column  Non-Null Count  Dtype \n",
        "    ---  ------  --------------  ----- \n",
        "     0   Name    4 non-null      object\n",
        "     1   Age     4 non-null      int64 \n",
        "     2   City    4 non-null      object\n",
        "    dtypes: int64(1), object(2)\n",
        "    memory usage: 228.0+ bytes\n",
        "    None\n",
        "\n",
        "Statistical summary of numerical columns\n",
        "\n",
        "``` python\n",
        "print(df.describe())\n",
        "```\n",
        "\n",
        "                 Age\n",
        "    count   4.000000\n",
        "    mean   30.750000\n",
        "    std     2.753785\n",
        "    min    28.000000\n",
        "    25%    28.750000\n",
        "    50%    30.500000\n",
        "    75%    32.500000\n",
        "    max    34.000000\n",
        "\n",
        "These operations are crucial for getting a quick overview of your data,\n",
        "understanding its structure, and identifying potential issues or\n",
        "patterns.\n",
        "\n",
        "### Accessing Data\n",
        "\n",
        "Accessing a single column\n",
        "\n",
        "``` python\n",
        "print(df['Name'])\n",
        "```\n",
        "\n",
        "    0     John\n",
        "    1     Anna\n",
        "    2    Peter\n",
        "    3    Linda\n",
        "    Name: Name, dtype: object\n",
        "\n",
        "Accessing multiple columns\n",
        "\n",
        "``` python\n",
        "print(df[['Name', 'Age']])\n",
        "```\n",
        "\n",
        "        Name  Age\n",
        "    0   John   28\n",
        "    1   Anna   34\n",
        "    2  Peter   29\n",
        "    3  Linda   32\n",
        "\n",
        "Accessing a row by label\n",
        "\n",
        "``` python\n",
        "print(df.loc[0])\n",
        "```\n",
        "\n",
        "    Name        John\n",
        "    Age           28\n",
        "    City    New York\n",
        "    Name: 0, dtype: object\n",
        "\n",
        "Accessing a row by integer index\n",
        "\n",
        "``` python\n",
        "print(df.iloc[0])\n",
        "```\n",
        "\n",
        "    Name        John\n",
        "    Age           28\n",
        "    City    New York\n",
        "    Name: 0, dtype: object\n",
        "\n",
        "Accessing a specific value\n",
        "\n",
        "``` python\n",
        "print(df.loc[0, 'Name'])\n",
        "```\n",
        "\n",
        "    John\n",
        "\n",
        "### Adding and Deleting Columns\n",
        "\n",
        "DataFrames are mutable, allowing you to add or remove columns as needed:\n",
        "\n",
        "Adding a new column\n",
        "\n",
        "``` python\n",
        "df['Salary'] = [50000,60000,55000,65000]\n",
        "print(df)\n",
        "```\n",
        "\n",
        "        Name  Age      City  Salary\n",
        "    0   John   28  New York   50000\n",
        "    1   Anna   34     Paris   60000\n",
        "    2  Peter   29    Berlin   55000\n",
        "    3  Linda   32    London   65000\n",
        "\n",
        "Deleting a column\n",
        "\n",
        "``` python\n",
        "df = df.drop('Salary', axis=1)\n",
        "print(df)\n",
        "```\n",
        "\n",
        "        Name  Age      City\n",
        "    0   John   28  New York\n",
        "    1   Anna   34     Paris\n",
        "    2  Peter   29    Berlin\n",
        "    3  Linda   32    London\n",
        "\n",
        "### Filtering row\n",
        "\n",
        "Filtering allows you to focus on specific subsets of your data:\n",
        "\n",
        "``` python\n",
        "print(df[df['Age'] > 30])\n",
        "```\n",
        "\n",
        "        Name  Age    City\n",
        "    1   Anna   34   Paris\n",
        "    3  Linda   32  London\n",
        "\n",
        "``` python\n",
        "print(df[df['Age'] > 30]['City'])\n",
        "```\n",
        "\n",
        "    1     Paris\n",
        "    3    London\n",
        "    Name: City, dtype: object"
      ],
      "id": "9180091e-0210-418e-9552-6ae7047fe03c"
    },
    {
      "cell_type": "code",
      "execution_count": 21,
      "metadata": {},
      "outputs": [
        {
          "output_type": "stream",
          "name": "stdout",
          "text": [
            "    Name  Age    City\n",
            "3  Linda   32  London"
          ]
        }
      ],
      "source": [
        "print(df[(df['Age'] > 30) & (df['City'] == 'London')])  # AND condition"
      ],
      "id": "75e2079d"
    },
    {
      "cell_type": "code",
      "execution_count": 22,
      "metadata": {},
      "outputs": [
        {
          "output_type": "stream",
          "name": "stdout",
          "text": [
            "    Name  Age      City\n",
            "0   John   28  New York\n",
            "1   Anna   34     Paris\n",
            "3  Linda   32    London"
          ]
        }
      ],
      "source": [
        "print(df[(df['Age'] > 30) | (df['City'] == 'New York')])  # OR condition"
      ],
      "id": "b5115e0c"
    },
    {
      "cell_type": "markdown",
      "metadata": {},
      "source": [
        "### Filtering row (using `.loc()`)\n",
        "\n",
        "Filtering allows you to focus on specific subsets of your data:\n",
        "\n",
        "``` python\n",
        "print(df.loc[df['Age'] > 30])\n",
        "```\n",
        "\n",
        "        Name  Age    City\n",
        "    1   Anna   34   Paris\n",
        "    3  Linda   32  London\n",
        "\n",
        "``` python\n",
        "print(df.loc[df['Age'] > 30, 'City'])\n",
        "```\n",
        "\n",
        "    1     Paris\n",
        "    3    London\n",
        "    Name: City, dtype: object"
      ],
      "id": "1d7d94c5-265e-4267-8fab-a0e881585763"
    },
    {
      "cell_type": "code",
      "execution_count": 25,
      "metadata": {},
      "outputs": [
        {
          "output_type": "stream",
          "name": "stdout",
          "text": [
            "    Name  Age    City\n",
            "3  Linda   32  London"
          ]
        }
      ],
      "source": [
        "print(df.loc[(df['Age'] > 30) & (df['City'] == 'London')])  # AND condition"
      ],
      "id": "6380b939"
    },
    {
      "cell_type": "code",
      "execution_count": 26,
      "metadata": {},
      "outputs": [
        {
          "output_type": "stream",
          "name": "stdout",
          "text": [
            "    Name  Age      City\n",
            "0   John   28  New York\n",
            "1   Anna   34     Paris\n",
            "3  Linda   32    London"
          ]
        }
      ],
      "source": [
        "print(df.loc[(df['Age'] > 30) | (df['City'] == 'New York')])  # OR condition"
      ],
      "id": "d57fcc3e"
    },
    {
      "cell_type": "markdown",
      "metadata": {},
      "source": [
        "## Data Manipulation\n",
        "\n",
        "Data manipulation is at the heart of data analysis. Pandas provides\n",
        "powerful tools for sorting, grouping, aggregating, and transforming\n",
        "data:\n",
        "\n",
        "### Sorting\n",
        "\n",
        "Sorting allows you to order your data based on one or more columns:"
      ],
      "id": "466e8948-6426-410f-9fd2-45f7b6b6745a"
    },
    {
      "cell_type": "code",
      "execution_count": 27,
      "metadata": {},
      "outputs": [
        {
          "output_type": "stream",
          "name": "stdout",
          "text": [
            "    Name  Age      City\n",
            "1   Anna   34     Paris\n",
            "3  Linda   32    London\n",
            "2  Peter   29    Berlin\n",
            "0   John   28  New York"
          ]
        }
      ],
      "source": [
        "print(df.sort_values('Age', ascending=False))  # Sort descending"
      ],
      "id": "ae338c58"
    },
    {
      "cell_type": "code",
      "execution_count": 28,
      "metadata": {},
      "outputs": [
        {
          "output_type": "stream",
          "name": "stdout",
          "text": [
            "    Name  Age      City\n",
            "2  Peter   29    Berlin\n",
            "3  Linda   32    London\n",
            "0   John   28  New York\n",
            "1   Anna   34     Paris"
          ]
        }
      ],
      "source": [
        "print(df.sort_values(['City', 'Age']))  # Sort by multiple columns"
      ],
      "id": "54e0a8b1"
    },
    {
      "cell_type": "markdown",
      "metadata": {},
      "source": [
        "### Grouping and Aggregation\n",
        "\n",
        "Grouping allows you to split your data into groups based on some\n",
        "criteria and then perform calculations on each group:"
      ],
      "id": "c92ed957-2a25-44c5-a7d5-195441c86b85"
    },
    {
      "cell_type": "code",
      "execution_count": 29,
      "metadata": {},
      "outputs": [
        {
          "output_type": "stream",
          "name": "stdout",
          "text": [
            "City\n",
            "Berlin      29.0\n",
            "London      32.0\n",
            "New York    28.0\n",
            "Paris       34.0\n",
            "Name: Age, dtype: float64"
          ]
        }
      ],
      "source": [
        "print(df.groupby('City')['Age'].mean())  # Mean age by city"
      ],
      "id": "b8af1151"
    },
    {
      "cell_type": "code",
      "execution_count": 30,
      "metadata": {},
      "outputs": [
        {
          "output_type": "stream",
          "name": "stdout",
          "text": [
            "           Age  Name\n",
            "City                \n",
            "Berlin    29.0     1\n",
            "London    32.0     1\n",
            "New York  28.0     1\n",
            "Paris     34.0     1"
          ]
        }
      ],
      "source": [
        "print(df.groupby('City').agg({'Age': 'mean', 'Name': 'count'}))  # Multiple aggregations"
      ],
      "id": "984ba760"
    },
    {
      "cell_type": "markdown",
      "metadata": {},
      "source": [
        "Pandas provides a wide range of aggregation functions. Here are some\n",
        "commonly used ones:\n",
        "\n",
        "1.  `count()`: Count of non-null values\n",
        "2.  `sum()`: Sum of values\n",
        "3.  `mean()`: Arithmetic mean of values\n",
        "4.  `median()`: Median of values\n",
        "5.  `min()`, `max()`: Minimum and maximum values\n",
        "6.  `std()`, `var()`: Standard deviation and variance\n",
        "7.  `first()`, `last()`: First and last non-null values\n",
        "8.  `nunique()`: Number of unique values\n",
        "9.  `quantile()`: Quantile of values\n",
        "10. `agg()`: Allows applying multiple aggregation functions at once\n",
        "\n",
        "### Applying Functions\n",
        "\n",
        "You can apply custom functions to your data using the `apply` method:"
      ],
      "id": "f3d13c4c-c8d5-4bf2-a96d-bbb5ee970097"
    },
    {
      "cell_type": "code",
      "execution_count": 31,
      "metadata": {},
      "outputs": [
        {
          "output_type": "stream",
          "name": "stdout",
          "text": [
            "    Name  Age      City  Name_Length\n",
            "0   John   28  New York            4\n",
            "1   Anna   34     Paris            4\n",
            "2  Peter   29    Berlin            5\n",
            "3  Linda   32    London            5"
          ]
        }
      ],
      "source": [
        "df['Name_Length'] = df['Name'].apply(len)  # Apply a function to a column\n",
        "print(df)"
      ],
      "id": "cf623f90"
    },
    {
      "cell_type": "markdown",
      "metadata": {},
      "source": [
        "This allows for complex transformations and feature engineering.\n",
        "\n",
        "### Merging\n",
        "\n",
        "Combining data from different sources is a common task in data analysis:"
      ],
      "id": "684f86c3-316d-442f-8013-eecbc62f55ac"
    },
    {
      "cell_type": "code",
      "execution_count": 32,
      "metadata": {},
      "outputs": [
        {
          "output_type": "stream",
          "name": "stdout",
          "text": [
            "    Name  Age      City  Name_Length  Country\n",
            "0   John   28  New York            4      USA\n",
            "1   Anna   34     Paris            4   France\n",
            "2  Peter   29    Berlin            5  Germany\n",
            "3  Linda   32    London            5       UK"
          ]
        }
      ],
      "source": [
        "df2 = pd.DataFrame({\n",
        "    'City': ['New York', 'Paris', 'Berlin', 'London'],\n",
        "    'Country': ['USA', 'France', 'Germany', 'UK']\n",
        "})\n",
        "merged_df = pd.merge(df, df2, on='City')\n",
        "print(merged_df)"
      ],
      "id": "8749c4c4"
    },
    {
      "cell_type": "markdown",
      "metadata": {},
      "source": [
        "Merging allows you to combine data from different sources **based on\n",
        "common columns or indices**.\n",
        "\n",
        "### Mapping DataFrames\n",
        "\n",
        "Mapping allows you to replace values in a DataFrame based on a\n",
        "dictionary:"
      ],
      "id": "6b47daf1-ccd3-45ec-8e8d-7346841c1f0c"
    },
    {
      "cell_type": "code",
      "execution_count": 33,
      "metadata": {},
      "outputs": [
        {
          "output_type": "stream",
          "name": "stdout",
          "text": [
            "    Name  Age      City  Country\n",
            "0   John   28  New York      USA\n",
            "1   Anna   34     Paris   France\n",
            "2  Peter   29    Berlin  Germany\n",
            "3  Linda   32    London       UK"
          ]
        }
      ],
      "source": [
        "data = {\n",
        "    'Name': ['John', 'Anna', 'Peter', 'Linda'],\n",
        "    'Age': [28, 34, 29, 32],\n",
        "    'City': ['New York', 'Paris', 'Berlin', 'London']\n",
        "}\n",
        "df = pd.DataFrame(data)\n",
        "\n",
        "# Create a mapping dictionary\n",
        "city_country = {\n",
        "    'New York': 'USA',\n",
        "    'Paris': 'France',\n",
        "    'Berlin': 'Germany',\n",
        "    'London': 'UK'\n",
        "}\n",
        "\n",
        "# Apply the mapping to create a new column\n",
        "df['Country'] = df['City'].map(city_country)\n",
        "print(df)"
      ],
      "id": "0431a838"
    },
    {
      "cell_type": "markdown",
      "metadata": {},
      "source": [
        "Mapping is useful for categorizing data, replacing codes with meaningful\n",
        "labels, or performing lookups based on a dictionary.\n",
        "\n",
        "### Concatenating DataFrames\n",
        "\n",
        "Concatenation allows you to combine DataFrames along a particular axis:"
      ],
      "id": "604e09e6-92d3-43d5-95ca-0caba9bcb137"
    },
    {
      "cell_type": "code",
      "execution_count": 34,
      "metadata": {},
      "outputs": [],
      "source": [
        "df1 = pd.DataFrame({'A': ['A0', 'A1', 'A2'],\n",
        "                  'B': ['B0', 'B1', 'B2']},\n",
        "                  index=['K0', 'K1', 'K2'])\n",
        "\n",
        "df2 = pd.DataFrame({'C': ['C0', 'C1', 'C2'],\n",
        "                  'D': ['D0', 'D1', 'D2']},\n",
        "                  index=['K0', 'K1', 'K2'])"
      ],
      "id": "2a5ec16e"
    },
    {
      "cell_type": "markdown",
      "metadata": {},
      "source": [
        "Concatenate along columns (axis=1)"
      ],
      "id": "297289c0-1aeb-49ff-af19-c5dd334684fb"
    },
    {
      "cell_type": "code",
      "execution_count": 35,
      "metadata": {},
      "outputs": [
        {
          "output_type": "stream",
          "name": "stdout",
          "text": [
            "     A   B   C   D\n",
            "K0  A0  B0  C0  D0\n",
            "K1  A1  B1  C1  D1\n",
            "K2  A2  B2  C2  D2"
          ]
        }
      ],
      "source": [
        "result = pd.concat([df1, df2], axis=1)\n",
        "print(result)"
      ],
      "id": "9657e046"
    },
    {
      "cell_type": "markdown",
      "metadata": {},
      "source": [
        "Concatenate along rows (axis=0)"
      ],
      "id": "8585d51d-2056-4277-aafc-750fda4295e3"
    },
    {
      "cell_type": "code",
      "execution_count": 36,
      "metadata": {},
      "outputs": [
        {
          "output_type": "stream",
          "name": "stdout",
          "text": [
            "     A   B\n",
            "K0  A0  B0\n",
            "K1  A1  B1\n",
            "K2  A2  B2\n",
            "K3  A3  B3\n",
            "K4  A4  B4"
          ]
        }
      ],
      "source": [
        "df3 = pd.DataFrame({'A': ['A3', 'A4'],\n",
        "                    'B': ['B3', 'B4']},\n",
        "                    index=['K3', 'K4'])\n",
        "\n",
        "result = pd.concat([df1, df3])\n",
        "print(result)"
      ],
      "id": "0c817de7"
    },
    {
      "cell_type": "markdown",
      "metadata": {},
      "source": [
        "Concatenate with different indexes"
      ],
      "id": "66343720-c898-4b42-9e61-ecdd41a08c00"
    },
    {
      "cell_type": "code",
      "execution_count": 37,
      "metadata": {},
      "outputs": [
        {
          "output_type": "stream",
          "name": "stdout",
          "text": [
            "     A    B    C\n",
            "K0  A0   B0  NaN\n",
            "K1  A1   B1  NaN\n",
            "K2  A2   B2  NaN\n",
            "K1  A5  NaN   C5\n",
            "K6  A6  NaN   C6"
          ]
        }
      ],
      "source": [
        "df4 = pd.DataFrame({'A': ['A5', 'A6'],\n",
        "                    'C': ['C5', 'C6']},\n",
        "                    index=['K1', 'K6'])\n",
        "\n",
        "result = pd.concat([df1, df4])\n",
        "print(result)"
      ],
      "id": "38cab4ca"
    },
    {
      "cell_type": "code",
      "execution_count": 38,
      "metadata": {},
      "outputs": [
        {
          "output_type": "stream",
          "name": "stdout",
          "text": [
            "    A    B    C\n",
            "0  A0   B0  NaN\n",
            "1  A1   B1  NaN\n",
            "2  A2   B2  NaN\n",
            "3  A5  NaN   C5\n",
            "4  A6  NaN   C6"
          ]
        }
      ],
      "source": [
        "result = pd.concat([df1, df4], ignore_index=True)\n",
        "print(result)"
      ],
      "id": "697a69c9"
    },
    {
      "cell_type": "code",
      "execution_count": 39,
      "metadata": {},
      "outputs": [
        {
          "output_type": "stream",
          "name": "stdout",
          "text": [
            "  index   A    B    C\n",
            "0    K0  A0   B0  NaN\n",
            "1    K1  A1   B1  NaN\n",
            "2    K2  A2   B2  NaN\n",
            "3    K1  A5  NaN   C5\n",
            "4    K6  A6  NaN   C6"
          ]
        }
      ],
      "source": [
        "result = pd.concat([df1, df4]).reset_index() # reset index of DataFrame\n",
        "print(result)"
      ],
      "id": "1f742284"
    },
    {
      "cell_type": "markdown",
      "metadata": {},
      "source": [
        "## Handling Missing Data\n",
        "\n",
        "Missing data is common in real-world datasets. Let’s see how to handle\n",
        "it:"
      ],
      "id": "efcde14e-081d-4c2d-b10c-216f98814bf9"
    },
    {
      "cell_type": "code",
      "execution_count": 40,
      "metadata": {},
      "outputs": [],
      "source": [
        "df = pd.DataFrame({\n",
        "    'A': [1, np.nan, 4],\n",
        "    'B': [5, np.nan, np.nan],\n",
        "    'C': [9, 10, 11]})"
      ],
      "id": "18422d41"
    },
    {
      "cell_type": "markdown",
      "metadata": {},
      "source": [
        "Check for missing values\n",
        "\n",
        "``` python\n",
        "print(df.isnull())\n",
        "```\n",
        "\n",
        "           A      B      C\n",
        "    0  False  False  False\n",
        "    1   True   True  False\n",
        "    2  False   True  False\n",
        "\n",
        "Drop rows with missing values\n",
        "\n",
        "``` python\n",
        "print(df.dropna())\n",
        "```\n",
        "\n",
        "         A    B  C\n",
        "    0  1.0  5.0  9\n",
        "\n",
        "Fill missing values with 0\n",
        "\n",
        "``` python\n",
        "print(df.fillna(0))\n",
        "```\n",
        "\n",
        "         A    B   C\n",
        "    0  1.0  5.0   9\n",
        "    1  0.0  0.0  10\n",
        "    2  4.0  0.0  11\n",
        "\n",
        "Fill missing values with mean\n",
        "\n",
        "``` python\n",
        "df['B'] = df['B'].fillna(df['B'].mean())\n",
        "print(df)\n",
        "```\n",
        "\n",
        "         A    B   C\n",
        "    0  1.0  5.0   9\n",
        "    1  NaN  5.0  10\n",
        "    2  4.0  5.0  11\n",
        "\n",
        "## Reshaping Data\n",
        "\n",
        "In data analysis, we often need to reshape our data. Two common\n",
        "operations for this are pivot and unpivot, which transform data between\n",
        "“wide” and “long” formats.\n",
        "\n",
        "### Wide vs. Long Tables\n",
        "\n",
        "Wide Format (or Wide Table):\n",
        "\n",
        "-   Each subject’s repeated responses are in a single row.\n",
        "-   Each response is in a separate column.\n",
        "-   Usually easier for humans to read.\n",
        "\n",
        "Long Format (or Long Table):\n",
        "\n",
        "-   Each row is a single subject-response combination.\n",
        "-   Usually easier for machines to process and for certain types of\n",
        "    analysis.\n",
        "\n",
        "Let’s look at an example:\n",
        "\n",
        "Wide format data"
      ],
      "id": "8a997639-d833-4c69-ba00-13176280add0"
    },
    {
      "cell_type": "code",
      "execution_count": 45,
      "metadata": {},
      "outputs": [
        {
          "output_type": "stream",
          "name": "stdout",
          "text": [
            "Wide Format:\n",
            "    Name  Math  Science\n",
            "0  Alice    90       85\n",
            "1    Bob    70       80"
          ]
        }
      ],
      "source": [
        "wide_data = pd.DataFrame({\n",
        "    'Name': ['Alice', 'Bob'],\n",
        "    'Math': [90, 70],\n",
        "    'Science': [85, 80]\n",
        "})\n",
        "\n",
        "print(\"Wide Format:\")\n",
        "print(wide_data)"
      ],
      "id": "52d95cf3"
    },
    {
      "cell_type": "markdown",
      "metadata": {},
      "source": [
        "Long format data"
      ],
      "id": "3bcde72d-1d2f-498b-b485-1baf2e60225e"
    },
    {
      "cell_type": "code",
      "execution_count": 46,
      "metadata": {},
      "outputs": [
        {
          "output_type": "stream",
          "name": "stdout",
          "text": [
            "Long Format:\n",
            "    Name  Subject  Score\n",
            "0  Alice     Math     90\n",
            "1  Alice  Science     85\n",
            "2    Bob     Math     70\n",
            "3    Bob  Science     80"
          ]
        }
      ],
      "source": [
        "long_data = pd.DataFrame({\n",
        "    'Name': ['Alice', 'Alice', 'Bob', 'Bob'],\n",
        "    'Subject': ['Math', 'Science', 'Math', 'Science'],\n",
        "    'Score': [90, 85, 70, 80]\n",
        "})\n",
        "\n",
        "print(\"Long Format:\")\n",
        "print(long_data)"
      ],
      "id": "42da8fa1"
    },
    {
      "cell_type": "markdown",
      "metadata": {},
      "source": [
        "### Unpivot (Wide to Long)\n",
        "\n",
        "Unpivot (also known as “melt” in Pandas) is the opposite operation,\n",
        "transforming data from wide format to long format.\n",
        "\n",
        "-   It turns columns into rows.\n",
        "-   In Pandas, we use the `melt()` function for this operation."
      ],
      "id": "4d3888a0-88d7-412b-a8ce-b3351a54ae20"
    },
    {
      "cell_type": "code",
      "execution_count": 47,
      "metadata": {},
      "outputs": [
        {
          "output_type": "stream",
          "name": "stdout",
          "text": [
            "After Melt (Wide to Long):\n",
            "    Name  Subject  Score\n",
            "0  Alice     Math     90\n",
            "1    Bob     Math     70\n",
            "2  Alice  Science     85\n",
            "3    Bob  Science     80"
          ]
        }
      ],
      "source": [
        "# Unpivot operation (Wide to Long)\n",
        "melted = wide_data.melt(id_vars=['Name'], var_name='Subject', value_name='Score')\n",
        "\n",
        "print(\"After Melt (Wide to Long):\")\n",
        "print(melted)"
      ],
      "id": "4a9dc2cc"
    },
    {
      "cell_type": "markdown",
      "metadata": {},
      "source": [
        "### Pivot (Long to Wide)\n",
        "\n",
        "Pivot is an operation that transforms data from long format to wide\n",
        "format.\n",
        "\n",
        "-   It typically uses one column to create new columns.\n",
        "-   Values from another column fill these new columns."
      ],
      "id": "3a3ff46c-73ac-4c8d-bc33-6bc68f29a42b"
    },
    {
      "cell_type": "code",
      "execution_count": 48,
      "metadata": {},
      "outputs": [
        {
          "output_type": "stream",
          "name": "stdout",
          "text": [
            "After Pivot (Long to Wide):\n",
            "Subject  Math  Science\n",
            "Name                  \n",
            "Alice      90       85\n",
            "Bob        70       80"
          ]
        }
      ],
      "source": [
        "# Pivot operation (Long to Wide)\n",
        "pivoted = long_data.pivot(index='Name', columns='Subject', values='Score')\n",
        "\n",
        "print(\"After Pivot (Long to Wide):\")\n",
        "print(pivoted)"
      ],
      "id": "63d4eb89"
    },
    {
      "cell_type": "markdown",
      "metadata": {},
      "source": [
        "When to Use Each Format\n",
        "\n",
        "1.  Use Long Format when:\n",
        "    -   Performing statistical analyses that assume each observation is\n",
        "        a row.\n",
        "    -   Creating certain types of visualizations (e.g., with libraries\n",
        "        like Seaborn).\n",
        "    -   Working with time-series data.\n",
        "2.  Use Wide Format when:\n",
        "    -   Creating summary tables for reports.\n",
        "    -   Performing operations that require values to be in the same row."
      ],
      "id": "3bd6967b-c613-4ef0-a697-966f025aa61c"
    }
  ],
  "nbformat": 4,
  "nbformat_minor": 5,
  "metadata": {
    "kernelspec": {
      "name": "python3",
      "display_name": "Python 3 (ipykernel)",
      "language": "python",
      "path": "/Users/kittikun/Personal/python/econ/.venv/share/jupyter/kernels/python3"
    },
    "language_info": {
      "name": "python",
      "codemirror_mode": {
        "name": "ipython",
        "version": "3"
      },
      "file_extension": ".py",
      "mimetype": "text/x-python",
      "nbconvert_exporter": "python",
      "pygments_lexer": "ipython3",
      "version": "3.12.4"
    }
  }
}