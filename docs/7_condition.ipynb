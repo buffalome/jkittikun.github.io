{
  "cells": [
    {
      "cell_type": "markdown",
      "metadata": {},
      "source": [
        "# Condition\n",
        "\n",
        "Kittikun Jitpairod\n",
        "\n",
        "## Introduction to Conditional Statements\n",
        "\n",
        "Conditional statements in Python, as in many programming languages,\n",
        "enable decision-making processes within code. These statements\n",
        "facilitate the execution of different code blocks based on varying\n",
        "conditions.\n",
        "\n",
        "The primary mechanism for implementing conditional statements in Python\n",
        "is the `if` statement, complemented by `else` and `elif` clauses. These\n",
        "constructs allow for the selective execution of code blocks contingent\n",
        "upon the truth value of specified conditions.\n",
        "\n",
        "## The `if` Statement\n",
        "\n",
        "The `if` statement represents the most fundamental form of a conditional\n",
        "statement. It permits the execution of a code block only when a\n",
        "specified condition evaluates to true.\n",
        "\n",
        "Consider this example:"
      ],
      "id": "b4c3ead6-61b9-4a62-9454-34e60eacb6b3"
    },
    {
      "cell_type": "code",
      "execution_count": 1,
      "metadata": {},
      "outputs": [
        {
          "output_type": "stream",
          "name": "stdout",
          "text": [
            "You are an adult.\n",
            "This will always be printed."
          ]
        }
      ],
      "source": [
        "age = 20\n",
        "\n",
        "if age >= 18:\n",
        "    print(\"You are an adult.\")\n",
        "\n",
        "print(\"This will always be printed.\")"
      ],
      "id": "3229ff84"
    },
    {
      "cell_type": "markdown",
      "metadata": {},
      "source": [
        "In this instance, the condition `age >= 18` evaluates to True, resulting\n",
        "in the execution of the indented code block. The final print statement,\n",
        "being outside the if block, is executed regardless of the condition’s\n",
        "truth value.\n",
        "\n",
        "It is important to note that Python utilizes indentation to define code\n",
        "blocks. The indented code under the `if` statement is executed only when\n",
        "the condition evaluates to True."
      ],
      "id": "55bfba4a-08d2-4191-b224-20a798724bc1"
    },
    {
      "cell_type": "code",
      "execution_count": 2,
      "metadata": {},
      "outputs": [
        {
          "output_type": "stream",
          "name": "stdout",
          "text": [
            "It's a bit chilly.\n",
            "You might want to wear a jacket.\n",
            "Enjoy your day!"
          ]
        }
      ],
      "source": [
        "temperature = 15\n",
        "\n",
        "if temperature < 20:\n",
        "    print(\"It's a bit chilly.\")\n",
        "    print(\"You might want to wear a jacket.\")\n",
        "\n",
        "print(\"Enjoy your day!\")"
      ],
      "id": "440505b0"
    },
    {
      "cell_type": "markdown",
      "metadata": {},
      "source": [
        "## The `else` Clause\n",
        "\n",
        "The `else` clause provides an alternative execution path when the\n",
        "condition in the `if` statement evaluates to False:"
      ],
      "id": "831af35b-0d36-452c-9b6e-d7be9f3c1e9b"
    },
    {
      "cell_type": "code",
      "execution_count": 3,
      "metadata": {},
      "outputs": [
        {
          "output_type": "stream",
          "name": "stdout",
          "text": [
            "You are a minor."
          ]
        }
      ],
      "source": [
        "age = 15\n",
        "\n",
        "if age >= 18:\n",
        "    print(\"You are an adult.\")\n",
        "else:\n",
        "    print(\"You are a minor.\")"
      ],
      "id": "6e3801bc"
    },
    {
      "cell_type": "markdown",
      "metadata": {},
      "source": [
        "The `else` clause specifies an alternative code block to be executed\n",
        "when the `if` condition is False."
      ],
      "id": "648d00a0-148a-4d00-b102-c6974ab3c983"
    },
    {
      "cell_type": "code",
      "execution_count": 4,
      "metadata": {},
      "outputs": [
        {
          "output_type": "stream",
          "name": "stdout",
          "text": [
            "Remember to take an umbrella!"
          ]
        }
      ],
      "source": [
        "is_raining = True\n",
        "\n",
        "if is_raining:\n",
        "    print(\"Remember to take an umbrella!\")\n",
        "else:\n",
        "    print(\"Enjoy the sunny weather!\")"
      ],
      "id": "ac3ded42"
    },
    {
      "cell_type": "markdown",
      "metadata": {},
      "source": [
        "For scenarios requiring multiple condition checks, Python offers the\n",
        "`elif` (short for “else if”) clause as an efficient alternative to\n",
        "nested if-else statements:\n",
        "\n",
        "``` python\n",
        "score = 65\n",
        "\n",
        "if score >= 80:\n",
        "    print(\"A\")\n",
        "elif score >= 70:\n",
        "    print(\"B\")\n",
        "elif score >= 60:\n",
        "    print(\"C\")\n",
        "elif score >= 50:\n",
        "    print(\"D\")\n",
        "else:\n",
        "    print(\"F\")\n",
        "```\n",
        "\n",
        "    C\n",
        "\n",
        "``` python\n",
        "day = \"Wednesday\"\n",
        "\n",
        "if day == \"Monday\":\n",
        "    print(\"Start of the work week.\")\n",
        "elif day == \"Friday\":\n",
        "    print(\"TGIF!\")\n",
        "elif day == \"Saturday\" or day == \"Sunday\":\n",
        "    print(\"Weekend!\")\n",
        "else:\n",
        "    print(\"Midweek.\")\n",
        "```\n",
        "\n",
        "    Midweek.\n",
        "\n",
        "Multiple `elif` clauses can be employed as needed. Python evaluates each\n",
        "condition sequentially and executes the code block associated with the\n",
        "first True condition encountered.\n",
        "\n",
        "## Nested Conditional Statements\n",
        "\n",
        "Conditional statements can be embedded within other conditional\n",
        "statements, a practice known as nesting:"
      ],
      "id": "782ed826-9be8-4eb2-8177-f9e06b0b3102"
    },
    {
      "cell_type": "code",
      "execution_count": 7,
      "metadata": {},
      "outputs": [
        {
          "output_type": "stream",
          "name": "stdout",
          "text": [
            "It's a hot, sunny day!"
          ]
        }
      ],
      "source": [
        "is_sunny = True\n",
        "temperature = 28\n",
        "\n",
        "if is_sunny:\n",
        "    if temperature > 25:\n",
        "        print(\"It's a hot, sunny day!\")\n",
        "    else:\n",
        "        print(\"It's a mild, sunny day.\")\n",
        "else:\n",
        "    print(\"It's not sunny today.\")"
      ],
      "id": "33a86afe"
    },
    {
      "cell_type": "markdown",
      "metadata": {},
      "source": [
        "While nested conditionals can facilitate more complex decision-making\n",
        "processes, excessive nesting should be avoided as it can compromise code\n",
        "readability.\n",
        "\n",
        "## Conditional Expressions (Ternary Operator)\n",
        "\n",
        "Python provides a concise syntax for simple if-else statements, often\n",
        "referred to as the ternary operator:"
      ],
      "id": "328be262-8d55-43a4-b55a-ed8d67a9bc2d"
    },
    {
      "cell_type": "code",
      "execution_count": 8,
      "metadata": {},
      "outputs": [
        {
          "output_type": "stream",
          "name": "stdout",
          "text": [
            "adult"
          ]
        }
      ],
      "source": [
        "age = 20\n",
        "\n",
        "status = \"adult\" if age >= 18 else \"minor\"\n",
        "print(status)"
      ],
      "id": "3520aa6f"
    },
    {
      "cell_type": "markdown",
      "metadata": {},
      "source": [
        "The syntax follows the pattern:\n",
        "`value_if_true if condition else value_if_false`\n",
        "\n",
        "While this construct can be useful for simple conditions, full if-else\n",
        "statements are generally preferred for more complex logic to maintain\n",
        "code readability."
      ],
      "id": "749409c0-1f39-4725-8f3c-a0f8b67dc1aa"
    }
  ],
  "nbformat": 4,
  "nbformat_minor": 5,
  "metadata": {
    "kernelspec": {
      "name": "python3",
      "display_name": "Python 3 (ipykernel)",
      "language": "python",
      "path": "/Users/kittikun/Personal/python/econ/.venv/share/jupyter/kernels/python3"
    },
    "language_info": {
      "name": "python",
      "codemirror_mode": {
        "name": "ipython",
        "version": "3"
      },
      "file_extension": ".py",
      "mimetype": "text/x-python",
      "nbconvert_exporter": "python",
      "pygments_lexer": "ipython3",
      "version": "3.12.4"
    }
  }
}