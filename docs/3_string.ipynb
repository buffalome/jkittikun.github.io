{
  "cells": [
    {
      "cell_type": "markdown",
      "metadata": {},
      "source": [
        "# String\n",
        "\n",
        "Kittikun Jitpairod\n",
        "\n",
        "## Introduction\n",
        "\n",
        "In Python, a string is an immutable sequence of characters. It can\n",
        "represent text of any length, from a single character to entire\n",
        "paragraphs.\n",
        "\n",
        "## Creating Strings\n",
        "\n",
        "Strings can be created using single, double, or triple quotes:"
      ],
      "id": "60fafc57-7e3a-4e4a-bdba-b34c47ec994b"
    },
    {
      "cell_type": "code",
      "execution_count": 1,
      "metadata": {},
      "outputs": [
        {
          "output_type": "stream",
          "name": "stdout",
          "text": [
            "Hello, World!\n",
            "Python Programming\n",
            "This string spans\n",
            "multiple lines"
          ]
        }
      ],
      "source": [
        "single_quoted = 'Hello, World!'\n",
        "double_quoted = \"Python Programming\"\n",
        "triple_quoted = '''This string spans\n",
        "multiple lines'''\n",
        "print(single_quoted)\n",
        "print(double_quoted)\n",
        "print(triple_quoted)"
      ],
      "id": "b15a4135"
    },
    {
      "cell_type": "markdown",
      "metadata": {},
      "source": [
        "One quick tip: if you need to include quotes within your string, you can\n",
        "either use different quotes to enclose the string, or you can **escape\n",
        "the quotes**."
      ],
      "id": "bc3c5665-236c-401d-b23e-49ecb3e02b18"
    },
    {
      "cell_type": "code",
      "execution_count": 2,
      "metadata": {},
      "outputs": [
        {
          "output_type": "stream",
          "name": "stdout",
          "text": [
            "This's a book"
          ]
        }
      ],
      "source": [
        "print('This\\'s a book')"
      ],
      "id": "8b2d2616"
    },
    {
      "cell_type": "markdown",
      "metadata": {},
      "source": [
        "## Common Escape Characters\n",
        "\n",
        "1.  `\\n` - Newline\n",
        "2.  `\\t` - Tab\n",
        "3.  `\\\\` - Backslash\n",
        "4.  `\\'` - Single quote\n",
        "\n",
        "1.  `\\\"` - Double quote\n",
        "2.  `\\r` - Carriage return\n",
        "3.  `\\b` - Backspace\n",
        "4.  `\\f` - Form feed"
      ],
      "id": "b5d9184e-7764-4c8c-ade0-c7f4917a0ef5"
    },
    {
      "cell_type": "code",
      "execution_count": 3,
      "metadata": {},
      "outputs": [
        {
          "output_type": "stream",
          "name": "stdout",
          "text": [
            "Hello\n",
            "World\n",
            "\n",
            "Name:   John\n",
            "Path: C:\\Users\\John\n",
            "It's a beautiful day\n",
            "She said, \"Hello!\""
          ]
        }
      ],
      "source": [
        "print(\"Hello\\nWorld\\n\")  # Newline\n",
        "print(\"Name:\\tJohn\")   # Tab\n",
        "print(\"Path: C:\\\\Users\\\\John\")  # Backslash\n",
        "print('It\\'s a beautiful day')  # Single quote in single-quoted string\n",
        "print(\"She said, \\\"Hello!\\\"\")   # Double quote in double-quoted string"
      ],
      "id": "86ebdb53"
    },
    {
      "cell_type": "markdown",
      "metadata": {},
      "source": [
        "## String Operations\n",
        "\n",
        "### Concatenation"
      ],
      "id": "6a9839d0-2d5f-4dc1-8bd9-30eb70687e6f"
    },
    {
      "cell_type": "code",
      "execution_count": 4,
      "metadata": {},
      "outputs": [
        {
          "output_type": "stream",
          "name": "stdout",
          "text": [
            "John Doe"
          ]
        }
      ],
      "source": [
        "full_name = \"John\" + \" \" + \"Doe\"\n",
        "print(full_name)"
      ],
      "id": "6bba37fc"
    },
    {
      "cell_type": "markdown",
      "metadata": {},
      "source": [
        "### Repetition"
      ],
      "id": "10fcad7f-5ab5-4d7c-a99c-ee44dc4007d2"
    },
    {
      "cell_type": "code",
      "execution_count": 5,
      "metadata": {},
      "outputs": [
        {
          "output_type": "stream",
          "name": "stdout",
          "text": [
            "Python Python Python "
          ]
        }
      ],
      "source": [
        "repeated = \"Python \" * 3\n",
        "print(repeated)"
      ],
      "id": "419cdd5c"
    },
    {
      "cell_type": "markdown",
      "metadata": {},
      "source": [
        "### Indexing and Slicing"
      ],
      "id": "d1c6faf1-44ab-4fc2-b1f3-02f527ea8d8f"
    },
    {
      "cell_type": "code",
      "execution_count": 6,
      "metadata": {},
      "outputs": [
        {
          "output_type": "stream",
          "name": "stdout",
          "text": [
            "P\n",
            "n\n",
            "h\n",
            "yth\n",
            "Pyt\n",
            "thon"
          ]
        }
      ],
      "source": [
        "text = \"Python\"\n",
        "'''\n",
        "               \"P\" , \"y\" , \"t\" , \"h\" , \"o\", \"n\"\n",
        "Positive Index  0  ,  1  ,  2  ,  3  ,  4 ,  5\n",
        "Negative Index -6  , -5  , -4  , -3  , -2 , -1\n",
        "'''\n",
        "#### Indexing ####\n",
        "print(text[0])  # First character\n",
        "print(text[-1])  # Last character\n",
        "print(text[3])  # Fourth character from start\n",
        "\n",
        "#### Slicing: The syntax is [ start : end ] ####\n",
        "print(text[1:4])  # Characters from index 1 to  3\n",
        "print(text[:3])  # Characters from the start to index 2\n",
        "print(text[2:])  # Characters from index 2 to the end"
      ],
      "id": "fb1ed402"
    },
    {
      "cell_type": "markdown",
      "metadata": {},
      "source": [
        "### Case Conversion"
      ],
      "id": "5697c26c-7f3c-4d77-bbf2-516602b788f2"
    },
    {
      "cell_type": "code",
      "execution_count": 7,
      "metadata": {},
      "outputs": [
        {
          "output_type": "stream",
          "name": "stdout",
          "text": [
            "PYTHON PROGRAMMING\n",
            "python programming\n",
            "Python Programming"
          ]
        }
      ],
      "source": [
        "text = \"Python Programming\"\n",
        "print(text.upper())\n",
        "print(text.lower())\n",
        "print(text.title())"
      ],
      "id": "7f30662f"
    },
    {
      "cell_type": "markdown",
      "metadata": {},
      "source": [
        "### Strip Methods\n",
        "\n",
        "Remove spaces at the beginning and at the end of the string"
      ],
      "id": "623af33a-ade6-43e3-967d-0d16fa5091ab"
    },
    {
      "cell_type": "code",
      "execution_count": 8,
      "metadata": {},
      "outputs": [
        {
          "output_type": "stream",
          "name": "stdout",
          "text": [
            "|Python||Python   ||   Python|"
          ]
        }
      ],
      "source": [
        "text = \"   Python   \"\n",
        "print(\"|\" + text.strip() + \"|\" + \"|\" + text.lstrip() + \"|\" + \"|\" + text.rstrip() + \"|\")"
      ],
      "id": "9f0eb5ca"
    },
    {
      "cell_type": "markdown",
      "metadata": {},
      "source": [
        "### Find and Replace"
      ],
      "id": "3391e179-33c7-4168-a8ba-853fc75c451c"
    },
    {
      "cell_type": "code",
      "execution_count": 9,
      "metadata": {},
      "outputs": [
        {
          "output_type": "stream",
          "name": "stdout",
          "text": [
            "7\n",
            "Python is awesome"
          ]
        }
      ],
      "source": [
        "text = \"Python is amazing\"\n",
        "print(text.find(\"is\"))\n",
        "print(text.replace(\"amazing\", \"awesome\"))"
      ],
      "id": "3cd826d1"
    },
    {
      "cell_type": "markdown",
      "metadata": {},
      "source": [
        "### Split and Join"
      ],
      "id": "bdc8cc26-ca7e-44bb-be13-0dfe3c69ad2c"
    },
    {
      "cell_type": "code",
      "execution_count": 10,
      "metadata": {},
      "outputs": [
        {
          "output_type": "stream",
          "name": "stdout",
          "text": [
            "['Python', 'Java', 'C++']\n",
            "Python-Java-C++"
          ]
        }
      ],
      "source": [
        "text = \"Python,Java,C++\"\n",
        "languages = text.split(\",\")\n",
        "print(languages)\n",
        "\n",
        "joined = \"-\".join(languages)\n",
        "print(joined)"
      ],
      "id": "f8c9d37a"
    },
    {
      "cell_type": "markdown",
      "metadata": {},
      "source": [
        "## String Formatting\n",
        "\n",
        "### Format Method"
      ],
      "id": "1ef6915d-3371-4e1d-b29f-eaf71e5d3b36"
    },
    {
      "cell_type": "code",
      "execution_count": 11,
      "metadata": {},
      "outputs": [
        {
          "output_type": "stream",
          "name": "stdout",
          "text": [
            "My name is Bob and I am 25 years old.\n",
            "My name is Bob and I am 25.00 years old."
          ]
        }
      ],
      "source": [
        "name, age = \"Bob\", 25\n",
        "print(\"My name is {} and I am {} years old.\".format(name, age))\n",
        "print(\"My name is {} and I am {:.2f} years old.\".format(name, age))"
      ],
      "id": "b7e65695"
    },
    {
      "cell_type": "markdown",
      "metadata": {},
      "source": [
        "### % Operator (older style)"
      ],
      "id": "38b6860b-6bcc-48ff-8a65-f3b04abd0f0f"
    },
    {
      "cell_type": "code",
      "execution_count": 12,
      "metadata": {},
      "outputs": [
        {
          "output_type": "stream",
          "name": "stdout",
          "text": [
            "My name is Charlie and I am 35 years old.\n",
            "My name is Charlie and I am 35.00 years old."
          ]
        }
      ],
      "source": [
        "name, age = \"Charlie\", 35\n",
        "print(\"My name is %s and I am %d years old.\" %(name, age))\n",
        "print(\"My name is %s and I am %.2f years old.\" %(name, age))"
      ],
      "id": "b9c2414b"
    },
    {
      "cell_type": "markdown",
      "metadata": {},
      "source": [
        "### f-strings (Formatted Strings)\n",
        "\n",
        "F-strings provide a concise and readable way to embed expressions inside\n",
        "string literals. They are prefixed with ‘f’ or ‘F’."
      ],
      "id": "9afce825-00d8-427c-985f-b7410e1ed29f"
    },
    {
      "cell_type": "code",
      "execution_count": 13,
      "metadata": {},
      "outputs": [
        {
          "output_type": "stream",
          "name": "stdout",
          "text": [
            "My name is Alice and I am 30 years old."
          ]
        }
      ],
      "source": [
        "name = \"Alice\"\n",
        "age = 30\n",
        "print(f\"My name is {name} and I am {age} years old.\")"
      ],
      "id": "ec39ed35"
    },
    {
      "cell_type": "markdown",
      "metadata": {},
      "source": [
        "### r-strings (Raw Strings)\n",
        "\n",
        "Raw strings, prefixed with ‘r’ or ‘R’, treat backslashes as literal\n",
        "characters. This is particularly useful for regular expressions and file\n",
        "paths."
      ],
      "id": "bd8f3a4f-1ae9-48b0-9c5d-b9faceb82145"
    },
    {
      "cell_type": "code",
      "execution_count": 14,
      "metadata": {},
      "outputs": [
        {
          "output_type": "stream",
          "name": "stdout",
          "text": [
            "C:\\Users\\John\\Documents\n",
            "C:\\Users\\John\\Documents"
          ]
        }
      ],
      "source": [
        "print(r\"C:\\Users\\John\\Documents\")\n",
        "print(\"C:\\\\Users\\\\John\\\\Documents\") # Compare with a normal string:"
      ],
      "id": "9a81e637"
    },
    {
      "cell_type": "markdown",
      "metadata": {},
      "source": [
        "### rf-strings (Raw-Formatted Strings)\n",
        "\n",
        "RF-strings combine the features of raw strings and formatted strings.\n",
        "They are prefixed with ‘rf’ or ‘RF’.\n",
        "\n",
        "Syntax and usage:"
      ],
      "id": "82a3eb9c-f79b-4848-ab44-ffeae4e20401"
    },
    {
      "cell_type": "code",
      "execution_count": 15,
      "metadata": {},
      "outputs": [
        {
          "output_type": "stream",
          "name": "stdout",
          "text": [
            "C:\\Users\\John"
          ]
        }
      ],
      "source": [
        "name = \"John\"\n",
        "path = r\"C:\\Users\"\n",
        "print(rf\"{path}\\{name}\")"
      ],
      "id": "32426acc"
    },
    {
      "cell_type": "markdown",
      "metadata": {},
      "source": [
        "## Number Formatting in Strings\n",
        "\n",
        "formatting options:\n",
        "\n",
        "-   `:.2f`: This specifies we want 2 decimal places for a float.\n",
        "-   `:10`: This sets the total field width to 10 characters.\n",
        "-   `:08.3f`: This pads the number with zeros to a width of 8, including\n",
        "    3 decimal places.\n",
        "-   `:.1%`: This formats the number as a percentage with 1 decimal\n",
        "    place.\n",
        "-   `:,`: This adds thousand separators to large numbers."
      ],
      "id": "8b0776d7-875b-4750-a929-42a5cdc822e9"
    },
    {
      "cell_type": "code",
      "execution_count": 16,
      "metadata": {},
      "outputs": [
        {
          "output_type": "stream",
          "name": "stdout",
          "text": [
            "Pi to 2 decimal places: 3.14\n",
            "Pi in a field of 10 characters:    3.14159\n",
            "Pi padded with zeros: 0003.142"
          ]
        }
      ],
      "source": [
        "pi = 3.14159\n",
        "radius = 5\n",
        "\n",
        "print(f\"Pi to 2 decimal places: {pi:.2f}\") # Limiting decimal places\n",
        "print(f\"Pi in a field of 10 characters: {pi:10}\") # Specifying width\n",
        "print(f\"Pi padded with zeros: {pi:08.3f}\") # Padding with zeros"
      ],
      "id": "b390b101"
    },
    {
      "cell_type": "code",
      "execution_count": 17,
      "metadata": {},
      "outputs": [
        {
          "output_type": "stream",
          "name": "stdout",
          "text": [
            "The area of a circle with radius 5 is 78.54\n",
            "You scored 87.6%\n",
            "A million: 1,000,000\n",
            "Scientific notation: 1.23e-04"
          ]
        }
      ],
      "source": [
        "area = pi * radius ** 2 # Using expressions\n",
        "print(f\"The area of a circle with radius {radius} is {area:.2f}\")\n",
        "\n",
        "score = 0.8756 # Formatting percentages\n",
        "print(f\"You scored {score:.1%}\")\n",
        "\n",
        "big_number = 1000000 # Formatting large numbers\n",
        "print(f\"A million: {big_number:,}\")\n",
        "\n",
        "scientific = 0.000123321 # Scientific notation\n",
        "print(\"Scientific notation: {:.2e}\".format(scientific))"
      ],
      "id": "6123bfc1"
    }
  ],
  "nbformat": 4,
  "nbformat_minor": 5,
  "metadata": {
    "kernelspec": {
      "name": "python3",
      "display_name": "Python 3 (ipykernel)",
      "language": "python",
      "path": "/Users/kittikun/Personal/python/econ/.venv/share/jupyter/kernels/python3"
    },
    "language_info": {
      "name": "python",
      "codemirror_mode": {
        "name": "ipython",
        "version": "3"
      },
      "file_extension": ".py",
      "mimetype": "text/x-python",
      "nbconvert_exporter": "python",
      "pygments_lexer": "ipython3",
      "version": "3.12.4"
    }
  }
}