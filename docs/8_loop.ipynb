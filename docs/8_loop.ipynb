{
  "cells": [
    {
      "cell_type": "markdown",
      "metadata": {},
      "source": [
        "# Loop\n",
        "\n",
        "Kittikun Jitpairod\n",
        "\n",
        "## Introduction to Loops\n",
        "\n",
        "Loops in Python provide a mechanism for executing a set of instructions\n",
        "repeatedly. They are fundamental constructs in programming that allow\n",
        "for efficient handling of iterative tasks. Python offers two primary\n",
        "types of loops: ‘for’ loops and ‘while’ loops, each serving different\n",
        "purposes in code execution.\n",
        "\n",
        "## The `for` Loop\n",
        "\n",
        "The `for` loop in Python is designed to iterate over a sequence (such as\n",
        "a list, tuple, string, or range) or other iterable objects. It executes\n",
        "a set of statements once for each item in the sequence.\n",
        "\n",
        "Basic syntax:\n",
        "\n",
        "``` python\n",
        "for item in sequence:\n",
        "    # code to be executed\n",
        "```\n",
        "\n",
        "Example:\n",
        "\n",
        "``` python\n",
        "for i in range(5):\n",
        "    print(i)\n",
        "```\n",
        "\n",
        "    0\n",
        "    1\n",
        "    2\n",
        "    3\n",
        "    4\n",
        "\n",
        "`range()` function return a sequence of a specific integer.\n",
        "\n",
        "Loop througn list items.\n",
        "\n",
        "``` python\n",
        "fruits = [\"apple\", \"banana\", \"cherry\"]\n",
        "for fruit in fruits:\n",
        "    print(fruit)\n",
        "```\n",
        "\n",
        "    apple\n",
        "    banana\n",
        "    cherry\n",
        "\n",
        "## The `while` Loop\n",
        "\n",
        "The `while` loop executes a set of statements as long as a given\n",
        "condition is true. It’s particularly useful when the number of\n",
        "iterations is not known beforehand.\n",
        "\n",
        "Basic syntax:\n",
        "\n",
        "``` python\n",
        "while condition:\n",
        "    # code to be executed\n",
        "```\n",
        "\n",
        "Example:"
      ],
      "id": "8968bb0a-e9d8-4685-884f-5bd84d30a7da"
    },
    {
      "cell_type": "code",
      "execution_count": 3,
      "metadata": {},
      "outputs": [
        {
          "output_type": "stream",
          "name": "stdout",
          "text": [
            "0\n",
            "1\n",
            "2\n",
            "3\n",
            "4"
          ]
        }
      ],
      "source": [
        "count = 0\n",
        "while count < 5:\n",
        "    print(count)\n",
        "    count += 1"
      ],
      "id": "3dce61e8"
    },
    {
      "cell_type": "markdown",
      "metadata": {},
      "source": [
        "## Loop Control Statements\n",
        "\n",
        "Python provides several statements to control the flow of loops:\n",
        "\n",
        "1.  `break`: Terminates the loop prematurely\n",
        "\n",
        "2.  `continue`: Skips the rest of the code inside the loop for the\n",
        "    current iteration\n",
        "\n",
        "3.  `else`: Specifies a block of code to be executed when the loop is\n",
        "    exhausted\n",
        "\n",
        "Example:"
      ],
      "id": "02544cb1-b2ab-4343-91a0-caea669d5417"
    },
    {
      "cell_type": "code",
      "execution_count": 4,
      "metadata": {},
      "outputs": [
        {
          "output_type": "stream",
          "name": "stdout",
          "text": [
            "0\n",
            "1\n",
            "2\n",
            "3\n",
            "4"
          ]
        }
      ],
      "source": [
        "for num in range(10):\n",
        "    if num == 5:\n",
        "        break\n",
        "    print(num)\n",
        "else:\n",
        "    print(\"Loop completed normally\")"
      ],
      "id": "1e5259e7"
    },
    {
      "cell_type": "code",
      "execution_count": 5,
      "metadata": {},
      "outputs": [
        {
          "output_type": "stream",
          "name": "stdout",
          "text": [
            "8\n",
            "9\n",
            "Loop completed normally"
          ]
        }
      ],
      "source": [
        "for num in range(10):\n",
        "    if num <= 7:\n",
        "        continue\n",
        "    print(num)\n",
        "else:\n",
        "    print(\"Loop completed normally\")"
      ],
      "id": "e615ade3"
    },
    {
      "cell_type": "markdown",
      "metadata": {},
      "source": [
        "## Nested Loops\n",
        "\n",
        "Loops can be nested inside other loops, allowing for more complex\n",
        "iterations:"
      ],
      "id": "f102ff7b-fa4d-4d25-b7f2-505373fd26f3"
    },
    {
      "cell_type": "code",
      "execution_count": 6,
      "metadata": {},
      "outputs": [
        {
          "output_type": "stream",
          "name": "stdout",
          "text": [
            "(1, a)\n",
            "(1, b)\n",
            "(1, c)\n",
            "(1, d)\n",
            "(2, a)\n",
            "(2, b)\n",
            "(2, c)\n",
            "(2, d)\n",
            "(3, a)\n",
            "(3, b)\n",
            "(3, c)\n",
            "(3, d)"
          ]
        }
      ],
      "source": [
        "A = [1, 2, 3]\n",
        "B = ['a', 'b', 'c', 'd']\n",
        "\n",
        "for i in A:\n",
        "    for j in B:\n",
        "        print(f\"({i}, {j})\")"
      ],
      "id": "9939303c"
    },
    {
      "cell_type": "markdown",
      "metadata": {},
      "source": [
        "## List Comprehensions\n",
        "\n",
        "Python offers a concise way to create lists based on existing lists,\n",
        "known as list comprehensions:"
      ],
      "id": "c66d29a1-8241-4a75-9f6a-b25741c4124d"
    },
    {
      "cell_type": "code",
      "execution_count": 7,
      "metadata": {},
      "outputs": [
        {
          "output_type": "stream",
          "name": "stdout",
          "text": [
            "[0, 1, 4, 9, 16, 25, 36, 49, 64, 81]"
          ]
        }
      ],
      "source": [
        "squares = [x**2 for x in range(10)]\n",
        "print(squares)"
      ],
      "id": "8d6ca83d"
    },
    {
      "cell_type": "markdown",
      "metadata": {},
      "source": [
        "This is equivalent to:"
      ],
      "id": "4ef8e9a1-e29f-479b-89da-a38d26565822"
    },
    {
      "cell_type": "code",
      "execution_count": 8,
      "metadata": {},
      "outputs": [
        {
          "output_type": "stream",
          "name": "stdout",
          "text": [
            "[0, 1, 4, 9, 16, 25, 36, 49, 64, 81]"
          ]
        }
      ],
      "source": [
        "squares = []\n",
        "for x in range(10):\n",
        "    squares.append(x**2)\n",
        "print(squares)"
      ],
      "id": "c3131015"
    }
  ],
  "nbformat": 4,
  "nbformat_minor": 5,
  "metadata": {
    "kernelspec": {
      "name": "python3",
      "display_name": "Python 3 (ipykernel)",
      "language": "python",
      "path": "/Users/kittikun/Personal/python/econ/.venv/share/jupyter/kernels/python3"
    },
    "language_info": {
      "name": "python",
      "codemirror_mode": {
        "name": "ipython",
        "version": "3"
      },
      "file_extension": ".py",
      "mimetype": "text/x-python",
      "nbconvert_exporter": "python",
      "pygments_lexer": "ipython3",
      "version": "3.12.4"
    }
  }
}