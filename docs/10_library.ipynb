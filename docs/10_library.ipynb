{
  "cells": [
    {
      "cell_type": "markdown",
      "metadata": {},
      "source": [
        "# Create, Import, and Install Libraries\n",
        "\n",
        "Kittikun Jitpairod\n",
        "\n",
        "## Library\n",
        "\n",
        "`A library in programming is a collection of pre-written code` that\n",
        "provides reusable functionality for common tasks. Libraries extend a\n",
        "programming language’s capabilities, allowing developers to utilize\n",
        "well-tested code for various functions without writing everything from\n",
        "scratch. This approach enhances productivity and enables the\n",
        "implementation of complex features more efficiently.\n",
        "\n",
        "Libraries in Python can be categorized into three main types:\n",
        "\n",
        "1.  `Internal (Standard) Libraries`: These are included with Python’s\n",
        "    standard distribution. They provide core functionality and are\n",
        "    readily available without additional installation. Examples include\n",
        "    ‘math’, ‘datetime’, and ‘os’.\n",
        "\n",
        "2.  `Local Libraries`: These are custom modules or packages created by\n",
        "    developers for a specific project or organization. They are\n",
        "    typically stored in the project directory or a designated location\n",
        "    on the local machine. Local libraries allow for code reuse within a\n",
        "    project or across related projects within an organization.\n",
        "\n",
        "3.  `External Libraries`: These are third-party libraries developed\n",
        "    independently of the Python core. They offer specialized\n",
        "    functionality and require separate installation. Popular examples\n",
        "    include ‘numpy’ for numerical computing, ‘pandas’ for data analysis,\n",
        "    and ‘matplotlib’ for plotting.\n",
        "\n",
        "## Creating and Importing Local Library\n",
        "\n",
        "As your Python projects grow, you’ll often want to organize your code\n",
        "into separate files or modules. Let’s explore how to create a local\n",
        "library of functions and import them into your main code.\n",
        "\n",
        "1.  First, let’s create a new file called `my_functions.py` in the same\n",
        "    directory as our main script. This will be our local library.\n",
        "\n",
        "``` python\n",
        "def calculate_area(length, width):\n",
        "    \"\"\"\n",
        "    Calculate the area of a rectangle.\n",
        "    \"\"\"\n",
        "    return length * width\n",
        "\n",
        "PI = 3.14159\n",
        "def calculate_circle_area(radius):\n",
        "    \"\"\"\n",
        "    Calculate the area of a circle.\n",
        "    \"\"\"\n",
        "    return PI * radius ** 2\n",
        "```\n",
        "\n",
        "This file defines three functions and a constant that we can use in\n",
        "other parts of our project.\n",
        "\n",
        "1.  Importing functions to your script licated in the same directory:\n",
        "\n",
        "<!-- -->\n",
        "\n",
        "1.  Import the entire module"
      ],
      "id": "a22804dc-2ba9-4218-a41c-848e0e65d2a4"
    },
    {
      "cell_type": "code",
      "execution_count": 1,
      "metadata": {},
      "outputs": [
        {
          "output_type": "stream",
          "name": "stdout",
          "text": [
            "15\n",
            "12.56636"
          ]
        }
      ],
      "source": [
        "import my_functions\n",
        "\n",
        "# Use the functions\n",
        "print(my_functions.calculate_area(5, 3))\n",
        "print(my_functions.calculate_circle_area(2))"
      ],
      "id": "ef8fd05b"
    },
    {
      "cell_type": "markdown",
      "metadata": {},
      "source": [
        "When you run `main.py`, it will import `my_functions.py` and you can use\n",
        "its functions by prefixing them with `my_functions.`.\n",
        "\n",
        "1.  If you only need certain functions, you can import them\n",
        "    specifically:"
      ],
      "id": "41e3a106-8d00-4e91-9333-95d2fc2153cd"
    },
    {
      "cell_type": "code",
      "execution_count": 2,
      "metadata": {},
      "outputs": [
        {
          "output_type": "stream",
          "name": "stdout",
          "text": [
            "24\n",
            "50.26544"
          ]
        }
      ],
      "source": [
        "from my_functions import calculate_area, calculate_circle_area\n",
        "\n",
        "print(calculate_area(4, 6))\n",
        "print(calculate_circle_area(4))"
      ],
      "id": "42df0b54"
    },
    {
      "cell_type": "markdown",
      "metadata": {},
      "source": [
        "1.  You can also use aliases to avoid naming conflicts or simply for\n",
        "    convenience:"
      ],
      "id": "93261711-68a7-42a4-bce5-2d251b71ddab"
    },
    {
      "cell_type": "code",
      "execution_count": 3,
      "metadata": {},
      "outputs": [
        {
          "output_type": "stream",
          "name": "stdout",
          "text": [
            "28.27431"
          ]
        }
      ],
      "source": [
        "from my_functions import calculate_circle_area as circle_area\n",
        "\n",
        "print(circle_area(3))"
      ],
      "id": "05cbec13"
    },
    {
      "cell_type": "markdown",
      "metadata": {},
      "source": [
        "1.  Importing Everything (Use Cautiously)\n",
        "\n",
        "You can import all `functions` and `variables` from a module using `*`,\n",
        "but this is generally discouraged as it can lead to naming conflicts and\n",
        "make it unclear where things are coming from:"
      ],
      "id": "1aeb676b-eb32-487f-96c7-c47be9e6917d"
    },
    {
      "cell_type": "code",
      "execution_count": 4,
      "metadata": {},
      "outputs": [
        {
          "output_type": "stream",
          "name": "stdout",
          "text": [
            "16\n",
            "78.53975\n",
            "3.14159"
          ]
        }
      ],
      "source": [
        "from my_functions import *\n",
        "\n",
        "print(calculate_area(2, 8))\n",
        "print(calculate_circle_area(5))\n",
        "print(PI)"
      ],
      "id": "50be2eab"
    },
    {
      "cell_type": "markdown",
      "metadata": {},
      "source": [
        "## Installing External Libraries\n",
        "\n",
        "While Python’s standard library provides a robust set of tools for many\n",
        "programming tasks, external libraries often offer additional\n",
        "functionality that can significantly enhance a programmer’s\n",
        "capabilities. This section will explore the process of installing and\n",
        "utilizing external libraries in Python.\n",
        "\n",
        "### Package Managers\n",
        "\n",
        "Python utilizes package managers to facilitate the installation and\n",
        "management of external libraries. The two primary package managers are:\n",
        "\n",
        "1.  `pip`: The default package installer for Python\n",
        "2.  `conda`: An open-source package management system and environment\n",
        "    management system\n",
        "\n",
        "This discussion will focus on pip, as it is included with Python\n",
        "installations from version 3.4 onward.\n",
        "\n",
        "### Virtual Environments\n",
        "\n",
        "When working on multiple projects, it is often beneficial to create\n",
        "isolated Python environments. This practice prevents conflicts between\n",
        "library versions and allows for project-specific dependencies. The\n",
        "`venv` module, included in Python 3.3 and later, provides this\n",
        "functionality.\n",
        "\n",
        "To create a virtual environment:\n",
        "\n",
        "``` python\n",
        "python -m venv myenv\n",
        "```\n",
        "\n",
        "To activate the virtual environment:\n",
        "\n",
        "-   On Windows: `myenv\\Scripts\\activate`\n",
        "-   On Unix or MacOS: `source myenv/bin/activate`\n",
        "\n",
        "Once activated, any libraries installed will be specific to this\n",
        "environment.\n",
        "\n",
        "### Using `pip` to Install Libraries\n",
        "\n",
        "The basic syntax for installing a library using pip is as follows:\n",
        "\n",
        "``` python\n",
        "pip install library_name\n",
        "```\n",
        "\n",
        "For example, to install the popular data analysis library pandas, one\n",
        "would execute:\n",
        "\n",
        "``` python\n",
        "pip install pandas\n",
        "```\n",
        "\n",
        "It is also possible to install a specific version of a library:\n",
        "\n",
        "``` python\n",
        "pip install pandas==1.2.0\n",
        "```\n",
        "\n",
        "### Requirements Files\n",
        "\n",
        "For projects with multiple dependencies, it is common practice to list\n",
        "all required libraries in a `requirements.txt` file. This file typically\n",
        "contains a list of libraries and their versions:\n",
        "\n",
        "``` python\n",
        "pandas==1.2.0\n",
        "numpy==1.19.5\n",
        "matplotlib==3.3.3\n",
        "```\n",
        "\n",
        "To install all libraries listed in a requirements file:\n",
        "\n",
        "``` python\n",
        "pip install -r requirements.txt\n",
        "```\n",
        "\n",
        "Once installed, external libraries can be imported and used in Python\n",
        "scripts. For example:\n",
        "\n",
        "``` python\n",
        "import pandas as pd\n",
        "\n",
        "data = pd.read_csv('data.csv')\n",
        "print(data.head())\n",
        "```"
      ],
      "id": "13bd3422-e992-40f6-b517-03bd261ddf56"
    }
  ],
  "nbformat": 4,
  "nbformat_minor": 5,
  "metadata": {
    "kernelspec": {
      "name": "python3",
      "display_name": "Python 3 (ipykernel)",
      "language": "python",
      "path": "/Users/kittikun/Personal/python/econ/.venv/share/jupyter/kernels/python3"
    },
    "language_info": {
      "name": "python",
      "codemirror_mode": {
        "name": "ipython",
        "version": "3"
      },
      "file_extension": ".py",
      "mimetype": "text/x-python",
      "nbconvert_exporter": "python",
      "pygments_lexer": "ipython3",
      "version": "3.12.4"
    }
  }
}