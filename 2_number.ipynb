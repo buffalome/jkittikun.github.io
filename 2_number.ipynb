{
  "cells": [
    {
      "cell_type": "markdown",
      "metadata": {},
      "source": [
        "# Number\n",
        "\n",
        "Kittikun Jitpairod\n",
        "\n",
        "## Numbers Types\n",
        "\n",
        "Python primarily uses two types of numbers: integers and floating-point\n",
        "numbers (floats). Understanding these is essential for calculations and\n",
        "data manipulation in Python.\n",
        "\n",
        "### Integers (`int`)\n",
        "\n",
        "Integers are whole numbers that can be positive, negative, or zero. They\n",
        "don’t have decimal points.\n",
        "\n",
        "``` python\n",
        "-3, -1, 0, 1, 42, 1000\n",
        "```\n",
        "\n",
        "### Floating-point numbers (`float`)\n",
        "\n",
        "Floats are numbers with decimal points. They can be positive or\n",
        "negative, and can use scientific notation.\n",
        "\n",
        "``` python\n",
        "3.14, -0.001, 2.0, 1.0e-4  # 1.0e-4 is scientific notation for 0.0001\n",
        "```\n",
        "\n",
        "## Converting between `int` and `float`\n",
        "\n",
        "Python allows easy conversion between integers and floats:"
      ],
      "id": "8bb93bc6-c61a-4e31-ad4d-ee2b42612e7b"
    },
    {
      "cell_type": "code",
      "execution_count": 1,
      "metadata": {},
      "outputs": [
        {
          "output_type": "stream",
          "name": "stdout",
          "text": [
            "float(5) = 5.0"
          ]
        }
      ],
      "source": [
        "x = float(5) # Integer to float\n",
        "print(f\"float(5) = {x}\")"
      ],
      "id": "b0888a13"
    },
    {
      "cell_type": "code",
      "execution_count": 2,
      "metadata": {},
      "outputs": [
        {
          "output_type": "stream",
          "name": "stdout",
          "text": [
            "int(5.7) = 5"
          ]
        }
      ],
      "source": [
        "y = int(5.7) # Float to integer\n",
        "print(f\"int(5.7) = {y}\")"
      ],
      "id": "baf98f8a"
    },
    {
      "cell_type": "markdown",
      "metadata": {},
      "source": [
        "## Precision and limitations\n",
        "\n",
        "Important considerations when working with numbers in Python:\n",
        "\n",
        "1.  Integers in Python 3 have unlimited precision.\n",
        "2.  Floats have limited precision, which can lead to unexpected results:"
      ],
      "id": "cd6e5790-7add-46aa-99cf-0efd0b13e8e9"
    },
    {
      "cell_type": "code",
      "execution_count": 3,
      "metadata": {},
      "outputs": [
        {
          "output_type": "stream",
          "name": "stdout",
          "text": [
            "0.30000000000000004"
          ]
        }
      ],
      "source": [
        "print(0.1 + 0.2)"
      ],
      "id": "a1d0f9e5"
    },
    {
      "cell_type": "markdown",
      "metadata": {},
      "source": [
        "This unexpected result occurs due to how computers represent\n",
        "floating-point numbers in binary. Most decimal fractions cannot be\n",
        "represented exactly as binary fractions. For example, 0.1 in binary is a\n",
        "repeating fraction:\n",
        "\n",
        "`0.0001100110011001100110011001100110011001100110011...`\n",
        "\n",
        "This leads to tiny rounding errors. When doing math with these slightly\n",
        "inaccurate numbers, errors can add up, causing unexpected results. For\n",
        "precise calculations, especially with money, use Python’s `decimal`\n",
        "module instead of floats."
      ],
      "id": "18855001-bd4b-4e09-a763-3b13d91e6efc"
    }
  ],
  "nbformat": 4,
  "nbformat_minor": 5,
  "metadata": {
    "kernelspec": {
      "name": "python3",
      "display_name": "Python 3 (ipykernel)",
      "language": "python",
      "path": "/Users/kittikun/Personal/python/econ/.venv/share/jupyter/kernels/python3"
    },
    "language_info": {
      "name": "python",
      "codemirror_mode": {
        "name": "ipython",
        "version": "3"
      },
      "file_extension": ".py",
      "mimetype": "text/x-python",
      "nbconvert_exporter": "python",
      "pygments_lexer": "ipython3",
      "version": "3.12.4"
    }
  }
}